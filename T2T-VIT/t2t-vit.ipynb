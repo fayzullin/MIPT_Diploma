{
 "cells": [
  {
   "attachments": {},
   "cell_type": "markdown",
   "metadata": {},
   "source": [
    "# T2T-ViT"
   ]
  },
  {
   "attachments": {},
   "cell_type": "markdown",
   "metadata": {},
   "source": [
    "## Configuration"
   ]
  },
  {
   "attachments": {},
   "cell_type": "markdown",
   "metadata": {},
   "source": [
    "Imports"
   ]
  },
  {
   "cell_type": "code",
   "execution_count": 2,
   "metadata": {},
   "outputs": [],
   "source": [
    "import numpy as np\n",
    "from collections import defaultdict\n",
    "import matplotlib.pyplot as plt\n",
    "\n",
    "import torch\n",
    "import torch.nn as nn\n",
    "import torch.optim as optim\n",
    "import torch.nn.functional as F\n",
    "from torchvision import datasets, transforms\n",
    "\n",
    "from ignite.engine import Events, create_supervised_trainer, create_supervised_evaluator\n",
    "import ignite.metrics\n",
    "import ignite.contrib.handlers"
   ]
  },
  {
   "attachments": {},
   "cell_type": "markdown",
   "metadata": {},
   "source": [
    "Configuration"
   ]
  },
  {
   "cell_type": "code",
   "execution_count": 3,
   "metadata": {},
   "outputs": [],
   "source": [
    "DATA_DIR='./data'\n",
    "\n",
    "IMAGE_SIZE = 32\n",
    "NUM_CLASSES = 10\n",
    "NUM_WORKERS = 20\n",
    "BATCH_SIZE = 32\n",
    "LEARNING_RATE = 1e-3\n",
    "WEIGHT_DECAY = 1e-1\n",
    "EPOCHS = 100"
   ]
  },
  {
   "cell_type": "code",
   "execution_count": 4,
   "metadata": {},
   "outputs": [
    {
     "name": "stdout",
     "output_type": "stream",
     "text": [
      "NVIDIA TITAN V\n",
      "NVIDIA TITAN V\n",
      "NVIDIA TITAN RTX\n",
      "NVIDIA TITAN RTX\n"
     ]
    }
   ],
   "source": [
    "for i in range(torch.cuda.device_count()):\n",
    "   print(torch.cuda.get_device_properties(i).name)"
   ]
  },
  {
   "cell_type": "code",
   "execution_count": 5,
   "metadata": {},
   "outputs": [
    {
     "name": "stdout",
     "output_type": "stream",
     "text": [
      "device: cuda:2\n"
     ]
    }
   ],
   "source": [
    "DEVICE = torch.device(\"cuda:2\") if torch.cuda.is_available() else torch.device(\"cpu\")\n",
    "print(\"device:\", DEVICE)"
   ]
  },
  {
   "attachments": {},
   "cell_type": "markdown",
   "metadata": {},
   "source": [
    "## Data"
   ]
  },
  {
   "cell_type": "code",
   "execution_count": 6,
   "metadata": {},
   "outputs": [],
   "source": [
    "train_transform = transforms.Compose([\n",
    "    transforms.RandomHorizontalFlip(),\n",
    "    transforms.RandomCrop(IMAGE_SIZE, padding=4),\n",
    "    transforms.ColorJitter(brightness=0.2, contrast=0.2, saturation=0.2),\n",
    "    transforms.ToTensor()\n",
    "])"
   ]
  },
  {
   "cell_type": "code",
   "execution_count": 7,
   "metadata": {},
   "outputs": [
    {
     "name": "stdout",
     "output_type": "stream",
     "text": [
      "Files already downloaded and verified\n",
      "Files already downloaded and verified\n"
     ]
    }
   ],
   "source": [
    "train_dset = datasets.CIFAR10(root=DATA_DIR, train=True, download=True, transform=train_transform)\n",
    "test_dset = datasets.CIFAR10(root=DATA_DIR, train=False, download=True, transform=transforms.ToTensor())"
   ]
  },
  {
   "cell_type": "code",
   "execution_count": 8,
   "metadata": {},
   "outputs": [],
   "source": [
    "train_loader = torch.utils.data.DataLoader(train_dset, batch_size=BATCH_SIZE, shuffle=True,\n",
    "                                           num_workers=NUM_WORKERS, pin_memory=True)\n",
    "test_loader = torch.utils.data.DataLoader(test_dset, batch_size=BATCH_SIZE, shuffle=False,\n",
    "                                          num_workers=NUM_WORKERS, pin_memory=True)"
   ]
  },
  {
   "cell_type": "code",
   "execution_count": 9,
   "metadata": {},
   "outputs": [],
   "source": [
    "def dataset_show_image(dset, idx):\n",
    "    X, Y = dset[idx]\n",
    "    title = \"Ground truth: {}\".format(dset.classes[Y])\n",
    "    fig = plt.figure()\n",
    "    ax = fig.add_subplot(111)\n",
    "    ax.set_axis_off()\n",
    "    ax.imshow(np.moveaxis(X.numpy(), 0, -1))\n",
    "    ax.set_title(title)\n",
    "    plt.show()"
   ]
  },
  {
   "cell_type": "code",
   "execution_count": 10,
   "metadata": {},
   "outputs": [
    {
     "data": {
      "image/png": "[encoded data removed]",
      "text/plain": [
       "<Figure size 432x288 with 1 Axes>"
      ]
     },
     "metadata": {
      "needs_background": "light"
     },
     "output_type": "display_data"
    }
   ],
   "source": [
    "dataset_show_image(test_dset, 1)"
   ]
  },
  {
   "attachments": {},
   "cell_type": "markdown",
   "metadata": {},
   "source": [
    "## Model"
   ]
  },
  {
   "attachments": {},
   "cell_type": "markdown",
   "metadata": {},
   "source": [
    "Utilities"
   ]
  },
  {
   "cell_type": "code",
   "execution_count": 11,
   "metadata": {},
   "outputs": [],
   "source": [
    "def init_linear(m):\n",
    "    if isinstance(m, (nn.Conv2d, nn.Linear)):\n",
    "        nn.init.kaiming_normal_(m.weight)\n",
    "        if m.bias is not None: nn.init.zeros_(m.bias)"
   ]
  },
  {
   "cell_type": "code",
   "execution_count": 12,
   "metadata": {},
   "outputs": [],
   "source": [
    "class Residual(nn.Module):\n",
    "    def __init__(self, *layers, shortcut=None):\n",
    "        super().__init__()\n",
    "        self.shortcut = nn.Identity() if shortcut is None else shortcut\n",
    "        self.residual = nn.Sequential(*layers)\n",
    "        self.gamma = nn.Parameter(torch.zeros(1))\n",
    "    \n",
    "    def forward(self, x):\n",
    "        return self.shortcut(x) + self.gamma * self.residual(x)"
   ]
  },
  {
   "cell_type": "code",
   "execution_count": 13,
   "metadata": {},
   "outputs": [],
   "source": [
    "class TakeFirst(nn.Module):\n",
    "    def forward(self, x):\n",
    "        return x[:, 0]"
   ]
  },
  {
   "attachments": {},
   "cell_type": "markdown",
   "metadata": {},
   "source": [
    "Attention"
   ]
  },
  {
   "cell_type": "code",
   "execution_count": 14,
   "metadata": {},
   "outputs": [],
   "source": [
    "class SelfAttention(nn.Module):\n",
    "    def __init__(self, dim, head_dim, heads=8, p_drop=0.):\n",
    "        super().__init__()\n",
    "        inner_dim = head_dim * heads\n",
    "        self.head_shape = (heads, head_dim)\n",
    "        self.scale = head_dim**-0.5\n",
    "\n",
    "        self.to_keys = nn.Linear(dim, inner_dim)\n",
    "        self.to_queries = nn.Linear(dim, inner_dim)\n",
    "        self.to_values = nn.Linear(dim, inner_dim)\n",
    "        self.unifyheads = nn.Linear(inner_dim, dim)\n",
    "\n",
    "        self.drop = nn.Dropout(p_drop)\n",
    "\n",
    "    def forward(self, x):\n",
    "        q_shape = x.shape[:-1] + self.head_shape\n",
    "\n",
    "        keys = self.to_keys(x).view(q_shape).transpose(1, 2) # move head forward to the batch dim\n",
    "        queries = self.to_queries(x).view(q_shape).transpose(1, 2)\n",
    "        values = self.to_values(x).view(q_shape).transpose(1, 2)\n",
    "\n",
    "        att = queries @ keys.transpose(-2, -1)\n",
    "        att = F.softmax(att * self.scale, dim=-1)\n",
    "        \n",
    "        out = att @ values\n",
    "        out = out.transpose(1, 2).contiguous().flatten(2) # move head back\n",
    "        out = self.unifyheads(out)\n",
    "        out = self.drop(out)\n",
    "        return out"
   ]
  },
  {
   "attachments": {},
   "cell_type": "markdown",
   "metadata": {},
   "source": [
    "Transformer"
   ]
  },
  {
   "cell_type": "code",
   "execution_count": 15,
   "metadata": {},
   "outputs": [],
   "source": [
    "class FeedForward(nn.Sequential):\n",
    "    def __init__(self, dim, mlp_mult=4, p_drop=0.):\n",
    "        hidden_dim = dim * mlp_mult\n",
    "        super().__init__(\n",
    "            nn.Linear(dim, hidden_dim),\n",
    "            nn.GELU(),\n",
    "            nn.Linear(hidden_dim, dim),\n",
    "            nn.Dropout(p_drop)\n",
    "        )"
   ]
  },
  {
   "cell_type": "code",
   "execution_count": 16,
   "metadata": {},
   "outputs": [],
   "source": [
    "class TransformerBlock(nn.Sequential):\n",
    "    def __init__(self, dim, head_dim, heads, mlp_mult=4, p_drop=0.):\n",
    "        super().__init__(\n",
    "            Residual(nn.LayerNorm(dim), SelfAttention(dim, head_dim, heads, p_drop)),\n",
    "            Residual(nn.LayerNorm(dim), FeedForward(dim, mlp_mult, p_drop=p_drop))\n",
    "        )"
   ]
  },
  {
   "attachments": {},
   "cell_type": "markdown",
   "metadata": {},
   "source": [
    "T2T module"
   ]
  },
  {
   "cell_type": "code",
   "execution_count": 17,
   "metadata": {},
   "outputs": [],
   "source": [
    "class SoftSplit(nn.Module):\n",
    "    def __init__(self, in_channels, dim, kernel_size=3, stride=2):\n",
    "        super().__init__()\n",
    "        padding = (kernel_size - 1) // 2\n",
    "        self.unfold = nn.Unfold(kernel_size, stride=stride, padding=padding)\n",
    "        self.project = nn.Linear(in_channels * kernel_size**2, dim)\n",
    "    \n",
    "    def forward(self, x):\n",
    "        out = self.unfold(x).transpose(1, 2)\n",
    "        out = self.project(out)\n",
    "        return out"
   ]
  },
  {
   "cell_type": "code",
   "execution_count": 18,
   "metadata": {},
   "outputs": [],
   "source": [
    "class Reshape(nn.Module):\n",
    "    def __init__(self, shape):\n",
    "        super().__init__()\n",
    "        self.shape = shape\n",
    "    \n",
    "    def forward(self, x):\n",
    "        out = x.transpose(1, 2).unflatten(2, self.shape)\n",
    "        return out"
   ]
  },
  {
   "cell_type": "code",
   "execution_count": 19,
   "metadata": {},
   "outputs": [],
   "source": [
    "class T2TBlock(nn.Sequential):\n",
    "    def __init__(self, image_size, token_dim, embed_dim, heads=1, mlp_mult=1, stride=2, p_drop=0.):\n",
    "        super().__init__(\n",
    "            TransformerBlock(token_dim, token_dim // heads , heads, mlp_mult, p_drop),\n",
    "            Reshape((image_size, image_size)),\n",
    "            SoftSplit(token_dim, embed_dim, stride=stride)\n",
    "        )"
   ]
  },
  {
   "cell_type": "code",
   "execution_count": 20,
   "metadata": {},
   "outputs": [],
   "source": [
    "class T2TModule(nn.Sequential):\n",
    "    def __init__(self, in_channels, image_size, strides, token_dim, embed_dim, p_drop=0.):\n",
    "        stride = strides[0]\n",
    "        layers = [SoftSplit(in_channels, token_dim, stride=stride)]\n",
    "        image_size = image_size // stride\n",
    "        \n",
    "        for stride in strides[1:-1]:\n",
    "            layers.append(T2TBlock(image_size, token_dim, token_dim, stride=stride, p_drop=p_drop))\n",
    "            image_size = image_size // stride\n",
    "        \n",
    "        stride = strides[-1]\n",
    "        layers.append(T2TBlock(image_size, token_dim, embed_dim, stride=stride, p_drop=p_drop))\n",
    "        \n",
    "        super().__init__(*layers)"
   ]
  },
  {
   "attachments": {},
   "cell_type": "markdown",
   "metadata": {},
   "source": [
    "T2T-ViT"
   ]
  },
  {
   "cell_type": "code",
   "execution_count": 21,
   "metadata": {},
   "outputs": [],
   "source": [
    "class PositionEmbedding(nn.Module):\n",
    "    def __init__(self, image_size, dim):\n",
    "        super().__init__()\n",
    "        self.pos_embedding = nn.Parameter(torch.zeros(1, image_size**2, dim))\n",
    "        self.cls_token = nn.Parameter(torch.zeros(1, 1, dim))\n",
    "    \n",
    "    def forward(self, x):\n",
    "        # add positional embedding\n",
    "        x = x + self.pos_embedding\n",
    "        # add classification token\n",
    "        cls_tokens = self.cls_token.expand(x.shape[0], -1, -1)\n",
    "        x = torch.cat((cls_tokens, x), dim=1)\n",
    "        return x"
   ]
  },
  {
   "cell_type": "code",
   "execution_count": 22,
   "metadata": {},
   "outputs": [],
   "source": [
    "class TransformerBackbone(nn.Sequential):\n",
    "    def __init__(self, dim, head_dim, heads, depth, mlp_mult=4, p_drop=0.):\n",
    "        layers = [TransformerBlock(dim, head_dim, heads, mlp_mult, p_drop) for _ in range(depth)]\n",
    "        super().__init__(*layers)"
   ]
  },
  {
   "cell_type": "code",
   "execution_count": 23,
   "metadata": {},
   "outputs": [],
   "source": [
    "class Head(nn.Sequential):\n",
    "    def __init__(self, dim, classes, p_drop=0.):\n",
    "        super().__init__(\n",
    "            nn.LayerNorm(dim),\n",
    "            nn.Dropout(p_drop),\n",
    "            nn.Linear(dim, classes)\n",
    "        )"
   ]
  },
  {
   "cell_type": "code",
   "execution_count": 24,
   "metadata": {},
   "outputs": [],
   "source": [
    "class T2TViT(nn.Sequential):\n",
    "    def __init__(self, classes, image_size, strides, token_dim, dim, head_dim, heads, backbone_depth, mlp_mult, \n",
    "                 in_channels=3, trans_p_drop=0., head_p_drop=0.):\n",
    "        reduced_size = image_size // np.prod(strides)\n",
    "        super().__init__(\n",
    "            T2TModule(in_channels, image_size, strides, token_dim, dim, p_drop=trans_p_drop),\n",
    "            PositionEmbedding(reduced_size, dim),\n",
    "            TransformerBackbone(dim, head_dim, heads, backbone_depth, p_drop=trans_p_drop),\n",
    "            TakeFirst(),\n",
    "            Head(dim, classes, p_drop=head_p_drop)\n",
    "        )"
   ]
  },
  {
   "cell_type": "code",
   "execution_count": 25,
   "metadata": {},
   "outputs": [],
   "source": [
    "model = T2TViT(NUM_CLASSES, IMAGE_SIZE, strides=[1, 1, 2], token_dim=64, dim=256, head_dim=64, heads=4,\n",
    "               backbone_depth=8, mlp_mult=2, trans_p_drop=0.3, head_p_drop=0.3)"
   ]
  },
  {
   "cell_type": "code",
   "execution_count": 26,
   "metadata": {},
   "outputs": [],
   "source": [
    "model.apply(init_linear);"
   ]
  },
  {
   "cell_type": "code",
   "execution_count": 27,
   "metadata": {},
   "outputs": [],
   "source": [
    "model.to(DEVICE);"
   ]
  },
  {
   "cell_type": "code",
   "execution_count": 28,
   "metadata": {},
   "outputs": [
    {
     "name": "stdout",
     "output_type": "stream",
     "text": [
      "Number of parameters: 6,623,838\n"
     ]
    }
   ],
   "source": [
    "print(\"Number of parameters: {:,}\".format(sum(p.numel() for p in model.parameters())))"
   ]
  },
  {
   "attachments": {},
   "cell_type": "markdown",
   "metadata": {
    "tags": []
   },
   "source": [
    "## Training"
   ]
  },
  {
   "attachments": {},
   "cell_type": "markdown",
   "metadata": {},
   "source": [
    "### History"
   ]
  },
  {
   "cell_type": "code",
   "execution_count": 29,
   "metadata": {},
   "outputs": [],
   "source": [
    "class History:\n",
    "    def __init__(self):\n",
    "        self.values = defaultdict(list)\n",
    "\n",
    "    def append(self, key, value):\n",
    "        self.values[key].append(value)\n",
    "\n",
    "    def reset(self):\n",
    "        for k in self.values.keys():\n",
    "            self.values[k] = []\n",
    "\n",
    "    def _begin_plot(self):\n",
    "        self.fig = plt.figure()\n",
    "        self.ax = self.fig.add_subplot(111)\n",
    "\n",
    "    def _end_plot(self, ylabel):\n",
    "        self.ax.set_xlabel('epoch')\n",
    "        self.ax.set_ylabel(ylabel)\n",
    "        plt.show()\n",
    "\n",
    "    def _plot(self, key, line_type='-', label=None):\n",
    "        if label is None: label=key\n",
    "        xs = np.arange(1, len(self.values[key])+1)\n",
    "        self.ax.plot(xs, self.values[key], line_type, label=label)\n",
    "\n",
    "    def plot(self, key):\n",
    "        self._begin_plot()\n",
    "        self._plot(key, '-')\n",
    "        self._end_plot(key)\n",
    "\n",
    "    def plot_train_val(self, key):\n",
    "        self._begin_plot()\n",
    "        self._plot('train ' + key, '.-', 'train')\n",
    "        self._plot('val ' + key, '.-', 'val')\n",
    "        self.ax.legend()\n",
    "        self._end_plot(key)"
   ]
  },
  {
   "attachments": {},
   "cell_type": "markdown",
   "metadata": {},
   "source": [
    "### Optimizer"
   ]
  },
  {
   "cell_type": "code",
   "execution_count": 30,
   "metadata": {},
   "outputs": [],
   "source": [
    "def separate_parameters(model):\n",
    "    parameters_decay = set()\n",
    "    parameters_no_decay = set()\n",
    "    modules_weight_decay = (nn.Linear, nn.Conv2d)\n",
    "    modules_no_weight_decay = (nn.LayerNorm, PositionEmbedding)\n",
    "\n",
    "    for m_name, m in model.named_modules():\n",
    "        for param_name, param in m.named_parameters():\n",
    "            full_param_name = f\"{m_name}.{param_name}\" if m_name else param_name\n",
    "\n",
    "            if isinstance(m, modules_no_weight_decay):\n",
    "                parameters_no_decay.add(full_param_name)\n",
    "            elif param_name.endswith(\"bias\"):\n",
    "                parameters_no_decay.add(full_param_name)\n",
    "            elif isinstance(m, Residual) and param_name.endswith(\"gamma\"):\n",
    "                parameters_no_decay.add(full_param_name)\n",
    "            elif isinstance(m, modules_weight_decay):\n",
    "                parameters_decay.add(full_param_name)\n",
    "    \n",
    "    # sanity check\n",
    "    assert len(parameters_decay & parameters_no_decay) == 0\n",
    "    assert len(parameters_decay) + len(parameters_no_decay) == len(list(model.parameters()))\n",
    "\n",
    "    return parameters_decay, parameters_no_decay"
   ]
  },
  {
   "cell_type": "code",
   "execution_count": 31,
   "metadata": {},
   "outputs": [],
   "source": [
    "def get_optimizer(model, learning_rate, weight_decay):\n",
    "    param_dict = {pn: p for pn, p in model.named_parameters()}\n",
    "    parameters_decay, parameters_no_decay = separate_parameters(model)\n",
    "    \n",
    "    optim_groups = [\n",
    "        {\"params\": [param_dict[pn] for pn in parameters_decay], \"weight_decay\": weight_decay},\n",
    "        {\"params\": [param_dict[pn] for pn in parameters_no_decay], \"weight_decay\": 0.0},\n",
    "    ]\n",
    "    optimizer = optim.AdamW(optim_groups, lr=learning_rate)\n",
    "    return optimizer"
   ]
  },
  {
   "attachments": {},
   "cell_type": "markdown",
   "metadata": {},
   "source": [
    "### Setup trainer"
   ]
  },
  {
   "cell_type": "code",
   "execution_count": 32,
   "metadata": {},
   "outputs": [],
   "source": [
    "loss = nn.CrossEntropyLoss()"
   ]
  },
  {
   "cell_type": "code",
   "execution_count": 33,
   "metadata": {},
   "outputs": [],
   "source": [
    "optimizer = get_optimizer(model, learning_rate=1e-6, weight_decay=WEIGHT_DECAY)"
   ]
  },
  {
   "cell_type": "code",
   "execution_count": 34,
   "metadata": {},
   "outputs": [],
   "source": [
    "trainer = create_supervised_trainer(model, optimizer, loss, device=DEVICE)"
   ]
  },
  {
   "cell_type": "code",
   "execution_count": 35,
   "metadata": {},
   "outputs": [],
   "source": [
    "lr_scheduler = optim.lr_scheduler.OneCycleLR(optimizer, max_lr=LEARNING_RATE,\n",
    "                                             steps_per_epoch=len(train_loader), epochs=EPOCHS)"
   ]
  },
  {
   "cell_type": "code",
   "execution_count": 36,
   "metadata": {},
   "outputs": [],
   "source": [
    "trainer.add_event_handler(Events.ITERATION_COMPLETED, lambda engine: lr_scheduler.step());"
   ]
  },
  {
   "cell_type": "code",
   "execution_count": 37,
   "metadata": {},
   "outputs": [],
   "source": [
    "ignite.metrics.RunningAverage(output_transform=lambda x: x).attach(trainer, \"loss\")"
   ]
  },
  {
   "cell_type": "code",
   "execution_count": 38,
   "metadata": {},
   "outputs": [],
   "source": [
    "val_metrics = {\"accuracy\": ignite.metrics.Accuracy(), \"loss\": ignite.metrics.Loss(loss)}"
   ]
  },
  {
   "cell_type": "code",
   "execution_count": 39,
   "metadata": {},
   "outputs": [],
   "source": [
    "evaluator = create_supervised_evaluator(model, metrics=val_metrics, device=DEVICE)"
   ]
  },
  {
   "cell_type": "code",
   "execution_count": 40,
   "metadata": {},
   "outputs": [],
   "source": [
    "history = History()"
   ]
  },
  {
   "cell_type": "code",
   "execution_count": 41,
   "metadata": {},
   "outputs": [],
   "source": [
    "@trainer.on(Events.EPOCH_COMPLETED)\n",
    "def log_validation_results(engine):\n",
    "    train_state = engine.state\n",
    "    epoch = train_state.epoch\n",
    "    max_epochs = train_state.max_epochs\n",
    "    train_loss = train_state.metrics[\"loss\"]\n",
    "    history.append('train loss', train_loss)\n",
    "    \n",
    "    evaluator.run(test_loader)\n",
    "    val_metrics = evaluator.state.metrics\n",
    "    val_loss = val_metrics[\"loss\"]\n",
    "    val_acc = val_metrics[\"accuracy\"]\n",
    "    history.append('val loss', val_loss)\n",
    "    history.append('val acc', val_acc)\n",
    "    \n",
    "    print(\"{}/{} - train: loss {:.3f}; val: loss {:.3f} accuracy {:.3f}\".format(\n",
    "        epoch, max_epochs, train_loss, val_loss, val_acc))"
   ]
  },
  {
   "attachments": {},
   "cell_type": "markdown",
   "metadata": {},
   "source": [
    "### Start training"
   ]
  },
  {
   "cell_type": "code",
   "execution_count": 42,
   "metadata": {},
   "outputs": [
    {
     "name": "stdout",
     "output_type": "stream",
     "text": [
      "1/100 - train: loss 1.702; val: loss 1.608 accuracy 0.396\n",
      "2/100 - train: loss 1.469; val: loss 1.399 accuracy 0.486\n",
      "3/100 - train: loss 1.396; val: loss 1.244 accuracy 0.550\n",
      "4/100 - train: loss 1.318; val: loss 1.219 accuracy 0.557\n",
      "5/100 - train: loss 1.270; val: loss 1.105 accuracy 0.599\n",
      "6/100 - train: loss 1.286; val: loss 1.090 accuracy 0.611\n",
      "7/100 - train: loss 1.232; val: loss 1.108 accuracy 0.603\n",
      "8/100 - train: loss 1.162; val: loss 1.080 accuracy 0.609\n",
      "9/100 - train: loss 1.144; val: loss 1.023 accuracy 0.639\n",
      "10/100 - train: loss 1.005; val: loss 0.984 accuracy 0.654\n",
      "11/100 - train: loss 1.029; val: loss 0.947 accuracy 0.664\n",
      "12/100 - train: loss 0.992; val: loss 0.901 accuracy 0.674\n",
      "13/100 - train: loss 1.001; val: loss 0.915 accuracy 0.673\n",
      "14/100 - train: loss 0.944; val: loss 0.946 accuracy 0.670\n",
      "15/100 - train: loss 0.951; val: loss 0.818 accuracy 0.711\n",
      "16/100 - train: loss 0.932; val: loss 0.827 accuracy 0.706\n",
      "17/100 - train: loss 0.906; val: loss 0.773 accuracy 0.725\n",
      "18/100 - train: loss 0.871; val: loss 0.867 accuracy 0.701\n",
      "19/100 - train: loss 0.869; val: loss 0.733 accuracy 0.741\n",
      "20/100 - train: loss 0.827; val: loss 0.801 accuracy 0.714\n",
      "21/100 - train: loss 0.842; val: loss 0.733 accuracy 0.746\n",
      "22/100 - train: loss 0.832; val: loss 0.697 accuracy 0.760\n",
      "23/100 - train: loss 0.759; val: loss 0.714 accuracy 0.748\n",
      "24/100 - train: loss 0.770; val: loss 0.655 accuracy 0.770\n",
      "25/100 - train: loss 0.732; val: loss 0.690 accuracy 0.765\n",
      "26/100 - train: loss 0.733; val: loss 0.660 accuracy 0.770\n",
      "27/100 - train: loss 0.753; val: loss 0.661 accuracy 0.766\n",
      "28/100 - train: loss 0.688; val: loss 0.726 accuracy 0.757\n",
      "29/100 - train: loss 0.695; val: loss 0.674 accuracy 0.758\n",
      "30/100 - train: loss 0.670; val: loss 0.599 accuracy 0.793\n",
      "31/100 - train: loss 0.660; val: loss 0.557 accuracy 0.807\n",
      "32/100 - train: loss 0.633; val: loss 0.551 accuracy 0.809\n",
      "33/100 - train: loss 0.616; val: loss 0.553 accuracy 0.812\n",
      "34/100 - train: loss 0.602; val: loss 0.550 accuracy 0.810\n",
      "35/100 - train: loss 0.641; val: loss 0.553 accuracy 0.805\n",
      "36/100 - train: loss 0.577; val: loss 0.520 accuracy 0.823\n",
      "37/100 - train: loss 0.580; val: loss 0.558 accuracy 0.808\n",
      "38/100 - train: loss 0.556; val: loss 0.551 accuracy 0.805\n",
      "39/100 - train: loss 0.577; val: loss 0.517 accuracy 0.824\n",
      "40/100 - train: loss 0.539; val: loss 0.481 accuracy 0.836\n",
      "41/100 - train: loss 0.548; val: loss 0.541 accuracy 0.818\n",
      "42/100 - train: loss 0.534; val: loss 0.539 accuracy 0.820\n",
      "43/100 - train: loss 0.510; val: loss 0.484 accuracy 0.834\n",
      "44/100 - train: loss 0.546; val: loss 0.466 accuracy 0.841\n",
      "45/100 - train: loss 0.509; val: loss 0.450 accuracy 0.844\n",
      "46/100 - train: loss 0.523; val: loss 0.473 accuracy 0.832\n",
      "47/100 - train: loss 0.499; val: loss 0.472 accuracy 0.837\n",
      "48/100 - train: loss 0.464; val: loss 0.446 accuracy 0.847\n",
      "49/100 - train: loss 0.478; val: loss 0.451 accuracy 0.849\n",
      "50/100 - train: loss 0.446; val: loss 0.464 accuracy 0.844\n",
      "51/100 - train: loss 0.452; val: loss 0.453 accuracy 0.845\n",
      "52/100 - train: loss 0.454; val: loss 0.444 accuracy 0.851\n",
      "53/100 - train: loss 0.435; val: loss 0.414 accuracy 0.857\n",
      "54/100 - train: loss 0.428; val: loss 0.380 accuracy 0.871\n",
      "55/100 - train: loss 0.375; val: loss 0.376 accuracy 0.870\n",
      "56/100 - train: loss 0.440; val: loss 0.402 accuracy 0.868\n",
      "57/100 - train: loss 0.358; val: loss 0.366 accuracy 0.876\n",
      "58/100 - train: loss 0.412; val: loss 0.378 accuracy 0.870\n",
      "59/100 - train: loss 0.356; val: loss 0.394 accuracy 0.870\n",
      "60/100 - train: loss 0.372; val: loss 0.359 accuracy 0.879\n",
      "61/100 - train: loss 0.381; val: loss 0.400 accuracy 0.868\n",
      "62/100 - train: loss 0.340; val: loss 0.348 accuracy 0.885\n",
      "63/100 - train: loss 0.329; val: loss 0.359 accuracy 0.881\n",
      "64/100 - train: loss 0.326; val: loss 0.352 accuracy 0.883\n",
      "65/100 - train: loss 0.335; val: loss 0.380 accuracy 0.874\n",
      "66/100 - train: loss 0.306; val: loss 0.354 accuracy 0.885\n",
      "67/100 - train: loss 0.332; val: loss 0.346 accuracy 0.883\n",
      "68/100 - train: loss 0.279; val: loss 0.339 accuracy 0.887\n",
      "69/100 - train: loss 0.276; val: loss 0.358 accuracy 0.884\n",
      "70/100 - train: loss 0.272; val: loss 0.305 accuracy 0.899\n",
      "71/100 - train: loss 0.271; val: loss 0.325 accuracy 0.896\n",
      "72/100 - train: loss 0.220; val: loss 0.323 accuracy 0.898\n",
      "73/100 - train: loss 0.245; val: loss 0.308 accuracy 0.903\n",
      "74/100 - train: loss 0.202; val: loss 0.307 accuracy 0.903\n",
      "75/100 - train: loss 0.207; val: loss 0.310 accuracy 0.903\n",
      "76/100 - train: loss 0.171; val: loss 0.340 accuracy 0.898\n",
      "77/100 - train: loss 0.148; val: loss 0.301 accuracy 0.911\n",
      "78/100 - train: loss 0.177; val: loss 0.311 accuracy 0.908\n",
      "79/100 - train: loss 0.146; val: loss 0.312 accuracy 0.911\n",
      "80/100 - train: loss 0.117; val: loss 0.296 accuracy 0.914\n",
      "81/100 - train: loss 0.127; val: loss 0.308 accuracy 0.913\n",
      "82/100 - train: loss 0.113; val: loss 0.317 accuracy 0.916\n",
      "83/100 - train: loss 0.109; val: loss 0.327 accuracy 0.912\n",
      "84/100 - train: loss 0.089; val: loss 0.304 accuracy 0.920\n",
      "85/100 - train: loss 0.085; val: loss 0.313 accuracy 0.921\n",
      "86/100 - train: loss 0.071; val: loss 0.322 accuracy 0.921\n",
      "87/100 - train: loss 0.072; val: loss 0.320 accuracy 0.924\n",
      "88/100 - train: loss 0.053; val: loss 0.323 accuracy 0.927\n",
      "89/100 - train: loss 0.055; val: loss 0.342 accuracy 0.922\n",
      "90/100 - train: loss 0.041; val: loss 0.338 accuracy 0.925\n",
      "91/100 - train: loss 0.034; val: loss 0.328 accuracy 0.927\n",
      "92/100 - train: loss 0.034; val: loss 0.345 accuracy 0.927\n",
      "93/100 - train: loss 0.032; val: loss 0.340 accuracy 0.930\n",
      "94/100 - train: loss 0.022; val: loss 0.342 accuracy 0.930\n",
      "95/100 - train: loss 0.013; val: loss 0.346 accuracy 0.930\n",
      "96/100 - train: loss 0.017; val: loss 0.341 accuracy 0.930\n",
      "97/100 - train: loss 0.022; val: loss 0.343 accuracy 0.930\n",
      "98/100 - train: loss 0.020; val: loss 0.342 accuracy 0.930\n",
      "99/100 - train: loss 0.020; val: loss 0.344 accuracy 0.931\n",
      "100/100 - train: loss 0.014; val: loss 0.344 accuracy 0.930\n"
     ]
    }
   ],
   "source": [
    "trainer.run(train_loader, max_epochs=EPOCHS);"
   ]
  },
  {
   "cell_type": "code",
   "execution_count": 43,
   "metadata": {},
   "outputs": [
    {
     "data": {
      "image/png": "[encoded data removed]",
      "text/plain": [
       "<Figure size 432x288 with 1 Axes>"
      ]
     },
     "metadata": {
      "needs_background": "light"
     },
     "output_type": "display_data"
    }
   ],
   "source": [
    "history.plot_train_val('loss')"
   ]
  },
  {
   "cell_type": "code",
   "execution_count": 44,
   "metadata": {},
   "outputs": [
    {
     "data": {
      "image/png": "[encoded data removed]",
      "text/plain": [
       "<Figure size 432x288 with 1 Axes>"
      ]
     },
     "metadata": {
      "needs_background": "light"
     },
     "output_type": "display_data"
    }
   ],
   "source": [
    "history.plot('val acc')"
   ]
  },
  {
   "cell_type": "code",
   "execution_count": 45,
   "metadata": {},
   "outputs": [],
   "source": [
    "SAVE_PATH = './models/t2t_weights.pkl'\n",
    "torch.save(model.state_dict(), SAVE_PATH)"
   ]
  },
  {
   "cell_type": "code",
   "execution_count": null,
   "metadata": {},
   "outputs": [],
   "source": []
  }
 ],
 "metadata": {
  "kernelspec": {
   "display_name": "Python 3",
   "language": "python",
   "name": "python3"
  },
  "language_info": {
   "codemirror_mode": {
    "name": "ipython",
    "version": 3
   },
   "file_extension": ".py",
   "mimetype": "text/x-python",
   "name": "python",
   "nbconvert_exporter": "python",
   "pygments_lexer": "ipython3",
   "version": "3.8.10"
  }
 },
 "nbformat": 4,
 "nbformat_minor": 4
}
