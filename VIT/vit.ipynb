{
 "cells": [
  {
   "attachments": {},
   "cell_type": "markdown",
   "metadata": {
    "id": "uDnQEW8xqLFc"
   },
   "source": [
    "# Vision Transformer (ViT)"
   ]
  },
  {
   "attachments": {},
   "cell_type": "markdown",
   "metadata": {
    "id": "JMXgpRHTqLFf"
   },
   "source": [
    "## Configuration"
   ]
  },
  {
   "cell_type": "code",
   "execution_count": null,
   "metadata": {
    "colab": {
     "base_uri": "https://localhost:8080/"
    },
    "executionInfo": {
     "elapsed": 19947,
     "status": "ok",
     "timestamp": 1683764076339,
     "user": {
      "displayName": "Музаффар Файзуллин",
      "userId": "18274565347338952550"
     },
     "user_tz": -180
    },
    "id": "vCsNHDucKH9d",
    "outputId": "58e16074-c1b0-4625-d1c5-ec79dd1b5cc1"
   },
   "outputs": [],
   "source": [
    "# from google.colab import drive\n",
    "# drive.mount('/content/drive')"
   ]
  },
  {
   "attachments": {},
   "cell_type": "markdown",
   "metadata": {
    "id": "qmazxJw2qLFf"
   },
   "source": [
    "Imports"
   ]
  },
  {
   "cell_type": "code",
   "execution_count": null,
   "metadata": {
    "executionInfo": {
     "elapsed": 4500,
     "status": "ok",
     "timestamp": 1683806444279,
     "user": {
      "displayName": "Музаффар Файзуллин",
      "userId": "18274565347338952550"
     },
     "user_tz": -180
    },
    "id": "4qUA84P3qLFg"
   },
   "outputs": [
    {
     "ename": "",
     "evalue": "",
     "output_type": "error",
     "traceback": [
      "\u001b[1;31mRunning cells with '/usr/local/bin/python3' requires the ipykernel package.\n",
      "\u001b[1;31mRun the following command to install 'ipykernel' into the Python environment. \n",
      "\u001b[1;31mCommand: '/usr/local/bin/python3 -m pip install ipykernel -U --user --force-reinstall'"
     ]
    }
   ],
   "source": [
    "from collections import defaultdict\n",
    "import numpy as np\n",
    "\n",
    "import torch\n",
    "import torch.nn as nn\n",
    "import torch.nn.functional as F\n",
    "import torch.optim as optim\n",
    "from torchvision import datasets, transforms\n",
    "\n",
    "from tqdm import tqdm\n",
    "\n",
    "import matplotlib.pyplot as plt"
   ]
  },
  {
   "cell_type": "code",
   "execution_count": 9,
   "metadata": {},
   "outputs": [
    {
     "name": "stdout",
     "output_type": "stream",
     "text": [
      "NVIDIA TITAN V\n",
      "NVIDIA TITAN V\n",
      "NVIDIA TITAN RTX\n",
      "NVIDIA TITAN RTX\n"
     ]
    }
   ],
   "source": [
    "for i in range(torch.cuda.device_count()):\n",
    "   print(torch.cuda.get_device_properties(i).name)"
   ]
  },
  {
   "attachments": {},
   "cell_type": "markdown",
   "metadata": {
    "id": "YWw3CtMSqLFh"
   },
   "source": [
    "Configuration"
   ]
  },
  {
   "cell_type": "code",
   "execution_count": 10,
   "metadata": {
    "executionInfo": {
     "elapsed": 6,
     "status": "ok",
     "timestamp": 1683806444279,
     "user": {
      "displayName": "Музаффар Файзуллин",
      "userId": "18274565347338952550"
     },
     "user_tz": -180
    },
    "id": "AnWQujIOqLFh"
   },
   "outputs": [],
   "source": [
    "IMAGE_SIZE = 32\n",
    "PATCH_SIZE = 4\n",
    "NUM_CLASSES = 100\n",
    "\n",
    "BATCH_SIZE = 128\n",
    "NUM_WORKERS = 4\n",
    "EPOCHS = 50\n",
    "LEARNING_RATE = 3e-4\n",
    "WEIGHT_DECAY = 1e-1\n",
    "\n",
    "SAVE_PATH = './vit_weights.pkl'"
   ]
  },
  {
   "cell_type": "code",
   "execution_count": 32,
   "metadata": {
    "colab": {
     "base_uri": "https://localhost:8080/"
    },
    "executionInfo": {
     "elapsed": 7,
     "status": "ok",
     "timestamp": 1683806444280,
     "user": {
      "displayName": "Музаффар Файзуллин",
      "userId": "18274565347338952550"
     },
     "user_tz": -180
    },
    "id": "NWVmXLyiqLFi",
    "outputId": "614700b6-9949-4ad8-e5cd-281e4bdf7b79"
   },
   "outputs": [
    {
     "name": "stdout",
     "output_type": "stream",
     "text": [
      "device: cuda:2\n"
     ]
    }
   ],
   "source": [
    "DEVICE = torch.device(\"cuda:2\") if torch.cuda.is_available() else torch.device(\"cpu\")\n",
    "print(\"device:\", DEVICE)"
   ]
  },
  {
   "attachments": {},
   "cell_type": "markdown",
   "metadata": {
    "id": "awyLtWhJqLFi"
   },
   "source": [
    "## Dataset"
   ]
  },
  {
   "cell_type": "code",
   "execution_count": 33,
   "metadata": {
    "executionInfo": {
     "elapsed": 5,
     "status": "ok",
     "timestamp": 1683806444280,
     "user": {
      "displayName": "Музаффар Файзуллин",
      "userId": "18274565347338952550"
     },
     "user_tz": -180
    },
    "id": "JT4aclfxqLFj"
   },
   "outputs": [],
   "source": [
    "train_transform = transforms.Compose([\n",
    "    transforms.RandomHorizontalFlip(),\n",
    "    transforms.RandomCrop(32, padding=4),\n",
    "    transforms.ColorJitter(brightness=0.2, contrast=0.2, saturation=0.2),\n",
    "    transforms.ToTensor()\n",
    "])"
   ]
  },
  {
   "cell_type": "code",
   "execution_count": 34,
   "metadata": {
    "colab": {
     "base_uri": "https://localhost:8080/"
    },
    "executionInfo": {
     "elapsed": 6840,
     "status": "ok",
     "timestamp": 1683806451115,
     "user": {
      "displayName": "Музаффар Файзуллин",
      "userId": "18274565347338952550"
     },
     "user_tz": -180
    },
    "id": "vQkXeozdqLFj",
    "outputId": "36ce01fc-bd7a-42eb-e4bb-8920217a705d"
   },
   "outputs": [
    {
     "name": "stdout",
     "output_type": "stream",
     "text": [
      "Files already downloaded and verified\n",
      "Files already downloaded and verified\n"
     ]
    }
   ],
   "source": [
    "train_dset = datasets.CIFAR10(root='.', train=True, download=True, transform=train_transform)\n",
    "test_dset = datasets.CIFAR10(root='.', train=False, download=True, transform=transforms.ToTensor())"
   ]
  },
  {
   "cell_type": "code",
   "execution_count": 35,
   "metadata": {
    "colab": {
     "base_uri": "https://localhost:8080/"
    },
    "executionInfo": {
     "elapsed": 8,
     "status": "ok",
     "timestamp": 1683806451115,
     "user": {
      "displayName": "Музаффар Файзуллин",
      "userId": "18274565347338952550"
     },
     "user_tz": -180
    },
    "id": "WPXKu1tlqLFk",
    "outputId": "835a3e48-a28b-4b9c-9654-ed15e818da98"
   },
   "outputs": [],
   "source": [
    "train_loader = torch.utils.data.DataLoader(train_dset, batch_size=BATCH_SIZE, shuffle=True,\n",
    "                                           num_workers=NUM_WORKERS)\n",
    "val_loader = torch.utils.data.DataLoader(test_dset, batch_size=BATCH_SIZE, shuffle=False,\n",
    "                                         num_workers=NUM_WORKERS)"
   ]
  },
  {
   "attachments": {},
   "cell_type": "markdown",
   "metadata": {
    "id": "OP2hRkzgqLFk"
   },
   "source": [
    "## Model"
   ]
  },
  {
   "cell_type": "code",
   "execution_count": 36,
   "metadata": {
    "executionInfo": {
     "elapsed": 8,
     "status": "ok",
     "timestamp": 1683806451116,
     "user": {
      "displayName": "Музаффар Файзуллин",
      "userId": "18274565347338952550"
     },
     "user_tz": -180
    },
    "id": "tX5ok1pqqLFk"
   },
   "outputs": [],
   "source": [
    "class Residual(nn.Module):\n",
    "    def __init__(self, *layers):\n",
    "        super().__init__()\n",
    "        self.residual = nn.Sequential(*layers)\n",
    "    \n",
    "    def forward(self, x):\n",
    "        return x + self.residual(x)"
   ]
  },
  {
   "cell_type": "code",
   "execution_count": 37,
   "metadata": {
    "executionInfo": {
     "elapsed": 7,
     "status": "ok",
     "timestamp": 1683806451116,
     "user": {
      "displayName": "Музаффар Файзуллин",
      "userId": "18274565347338952550"
     },
     "user_tz": -180
    },
    "id": "zTTUJfMkqLFl"
   },
   "outputs": [],
   "source": [
    "class FeedForward(nn.Sequential):\n",
    "    def __init__(self, dim, hidden_dim, p_drop=0.):\n",
    "        super().__init__(\n",
    "            nn.Linear(dim, hidden_dim),\n",
    "            nn.GELU(),\n",
    "            nn.Dropout(p_drop),\n",
    "            nn.Linear(hidden_dim, dim),\n",
    "            nn.Dropout(p_drop)\n",
    "        )"
   ]
  },
  {
   "cell_type": "code",
   "execution_count": 38,
   "metadata": {
    "executionInfo": {
     "elapsed": 8,
     "status": "ok",
     "timestamp": 1683806451117,
     "user": {
      "displayName": "Музаффар Файзуллин",
      "userId": "18274565347338952550"
     },
     "user_tz": -180
    },
    "id": "7s87Hl37qLFl"
   },
   "outputs": [],
   "source": [
    "class SelfAttention(nn.Module):\n",
    "    def __init__(self, dim, heads=8, p_drop=0.):\n",
    "        super().__init__()\n",
    "        self.heads = heads\n",
    "\n",
    "        self.to_keys = nn.Linear(dim, dim)\n",
    "        self.to_queries = nn.Linear(dim, dim)\n",
    "        self.to_values = nn.Linear(dim, dim)\n",
    "        self.unifyheads = nn.Linear(dim, dim)\n",
    "\n",
    "        self.attn_drop = nn.Dropout(p_drop)\n",
    "        self.resid_drop = nn.Dropout(p_drop)\n",
    "\n",
    "    def forward(self, x):\n",
    "        b, t, d = x.size()\n",
    "        h, d_q = self.heads, d // self.heads\n",
    "\n",
    "        keys = self.to_keys(x).view(b, t, h, d_q).transpose(1, 2) # move head forward to the batch dim\n",
    "        queries = self.to_queries(x).view(b, t, h, d_q).transpose(1, 2)\n",
    "        values = self.to_values(x).view(b, t, h, d_q).transpose(1, 2)\n",
    "\n",
    "        att = queries @ keys.transpose(-2, -1)\n",
    "        att = F.softmax(att * d_q**-0.5, dim=-1)\n",
    "        att = self.attn_drop(att)\n",
    "        \n",
    "        out = att @ values\n",
    "        out = out.transpose(1, 2).contiguous().view(b, t, d) # move head back\n",
    "        out = self.unifyheads(out)\n",
    "        out = self.resid_drop(out)\n",
    "        return out"
   ]
  },
  {
   "cell_type": "code",
   "execution_count": 39,
   "metadata": {
    "executionInfo": {
     "elapsed": 7,
     "status": "ok",
     "timestamp": 1683806451117,
     "user": {
      "displayName": "Музаффар Файзуллин",
      "userId": "18274565347338952550"
     },
     "user_tz": -180
    },
    "id": "5YyApgsEqLFm"
   },
   "outputs": [],
   "source": [
    "class Block(nn.Sequential):\n",
    "    def __init__(self, dim, heads, mlp_dim, p_drop):\n",
    "        super().__init__(\n",
    "            Residual(nn.LayerNorm(dim), SelfAttention(dim, heads, p_drop)),\n",
    "            Residual(nn.LayerNorm(dim), FeedForward(dim, mlp_dim, p_drop))\n",
    "        )"
   ]
  },
  {
   "cell_type": "code",
   "execution_count": 40,
   "metadata": {
    "executionInfo": {
     "elapsed": 7,
     "status": "ok",
     "timestamp": 1683806451117,
     "user": {
      "displayName": "Музаффар Файзуллин",
      "userId": "18274565347338952550"
     },
     "user_tz": -180
    },
    "id": "7seWtAvUqLFm"
   },
   "outputs": [],
   "source": [
    "class Transformer(nn.Sequential):\n",
    "    def __init__(self, dim, depth, heads, mlp_dim, p_drop):\n",
    "        layers = [Block(dim, heads, mlp_dim, p_drop) for _ in range(depth)]\n",
    "        super().__init__(*layers)"
   ]
  },
  {
   "cell_type": "code",
   "execution_count": 41,
   "metadata": {
    "executionInfo": {
     "elapsed": 7,
     "status": "ok",
     "timestamp": 1683806451117,
     "user": {
      "displayName": "Музаффар Файзуллин",
      "userId": "18274565347338952550"
     },
     "user_tz": -180
    },
    "id": "pXRlUl5DqLFn"
   },
   "outputs": [],
   "source": [
    "class PatchEmbedding(nn.Module):\n",
    "    def __init__(self, image_size, patch_size, dim, channels=3, emb_p_drop=0.):\n",
    "        super().__init__()\n",
    "        self.patch_size = patch_size\n",
    "        num_patches = (image_size // patch_size) ** 2\n",
    "        patch_dim = channels * patch_size ** 2\n",
    "\n",
    "        self.patch_to_embedding = nn.Linear(patch_dim, dim)\n",
    "        self.pos_embedding = nn.Parameter(torch.Tensor(1, num_patches, dim))\n",
    "        self.cls_token = nn.Parameter(torch.Tensor(1, 1, dim))\n",
    "        self.emb_dropout = nn.Dropout(emb_p_drop)\n",
    "    \n",
    "    def forward(self, x):\n",
    "        p = self.patch_size\n",
    "        x = F.unfold(x, p, stride=p).transpose(-1, -2) # extract patches\n",
    "        x = self.patch_to_embedding(x)\n",
    "        x += self.pos_embedding # add positional embedding\n",
    "        # add classification token\n",
    "        cls_tokens = self.cls_token.expand(x.shape[0], -1, -1)\n",
    "        x = torch.cat((cls_tokens, x), dim=1)\n",
    "        x = self.emb_dropout(x)\n",
    "        return x"
   ]
  },
  {
   "cell_type": "code",
   "execution_count": 42,
   "metadata": {
    "executionInfo": {
     "elapsed": 8,
     "status": "ok",
     "timestamp": 1683806451118,
     "user": {
      "displayName": "Музаффар Файзуллин",
      "userId": "18274565347338952550"
     },
     "user_tz": -180
    },
    "id": "TmQEug5qqLFn"
   },
   "outputs": [],
   "source": [
    "class TakeFirst(nn.Module):\n",
    "    def forward(self, x):\n",
    "        return x[:, 0]"
   ]
  },
  {
   "cell_type": "code",
   "execution_count": 43,
   "metadata": {
    "executionInfo": {
     "elapsed": 7,
     "status": "ok",
     "timestamp": 1683806451118,
     "user": {
      "displayName": "Музаффар Файзуллин",
      "userId": "18274565347338952550"
     },
     "user_tz": -180
    },
    "id": "LoMmCrDnqLFn"
   },
   "outputs": [],
   "source": [
    "class Head(nn.Sequential):\n",
    "    def __init__(self, dim, hidden_dim, num_classes, p_drop=0.):\n",
    "        super().__init__(\n",
    "            nn.LayerNorm(dim),\n",
    "            nn.Linear(dim, hidden_dim),\n",
    "            nn.GELU(),\n",
    "            nn.Dropout(p_drop),\n",
    "            nn.Linear(hidden_dim, num_classes)\n",
    "        )"
   ]
  },
  {
   "cell_type": "code",
   "execution_count": 44,
   "metadata": {
    "executionInfo": {
     "elapsed": 7,
     "status": "ok",
     "timestamp": 1683806451118,
     "user": {
      "displayName": "Музаффар Файзуллин",
      "userId": "18274565347338952550"
     },
     "user_tz": -180
    },
    "id": "Z7c4sRqRqLFo"
   },
   "outputs": [],
   "source": [
    "class ViT(nn.Sequential):\n",
    "    def __init__(self, image_size, patch_size, num_classes, dim, depth, heads, mlp_dim, channels=3,\n",
    "                 p_drop=0., emb_p_drop=0.):\n",
    "        super().__init__(\n",
    "            PatchEmbedding(image_size, patch_size, dim, channels, emb_p_drop),\n",
    "            Transformer(dim, depth, heads, mlp_dim, p_drop),\n",
    "            TakeFirst(),\n",
    "            Head(dim, mlp_dim, num_classes, p_drop)\n",
    "        )\n",
    "        self.reset_parameters()\n",
    "    \n",
    "    def reset_parameters(self):\n",
    "        for m in self.modules():\n",
    "            if isinstance(m, nn.Linear):\n",
    "                nn.init.normal_(m.weight, mean=0.0, std=0.02)\n",
    "                if m.bias is not None: nn.init.zeros_(m.bias)\n",
    "            elif isinstance(m, nn.LayerNorm):\n",
    "                nn.init.constant_(m.weight, 1.)\n",
    "                nn.init.zeros_(m.bias)\n",
    "            elif isinstance(m, PatchEmbedding):\n",
    "                nn.init.normal_(m.pos_embedding, mean=0.0, std=0.02)\n",
    "                nn.init.normal_(m.cls_token, mean=0.0, std=0.02)"
   ]
  },
  {
   "cell_type": "code",
   "execution_count": 54,
   "metadata": {
    "executionInfo": {
     "elapsed": 10139,
     "status": "ok",
     "timestamp": 1683806461251,
     "user": {
      "displayName": "Музаффар Файзуллин",
      "userId": "18274565347338952550"
     },
     "user_tz": -180
    },
    "id": "ZEP6kZPrqLFo"
   },
   "outputs": [],
   "source": [
    "model = ViT(IMAGE_SIZE, PATCH_SIZE, NUM_CLASSES, dim=512, depth=8, heads=8, mlp_dim=2048,\n",
    "            p_drop=0.1, emb_p_drop = 0.1).to(DEVICE)"
   ]
  },
  {
   "cell_type": "code",
   "execution_count": 55,
   "metadata": {
    "colab": {
     "base_uri": "https://localhost:8080/"
    },
    "executionInfo": {
     "elapsed": 20,
     "status": "ok",
     "timestamp": 1683806461251,
     "user": {
      "displayName": "Музаффар Файзуллин",
      "userId": "18274565347338952550"
     },
     "user_tz": -180
    },
    "id": "fY7wjOdEa7DU",
    "outputId": "171570e4-0634-4abf-a50c-f28edfcec6fd"
   },
   "outputs": [
    {
     "name": "stdout",
     "output_type": "stream",
     "text": [
      "Number of parameters: 26,533,988\n"
     ]
    }
   ],
   "source": [
    "print(\"Number of parameters: {:,}\".format(sum(p.numel() for p in model.parameters())))"
   ]
  },
  {
   "attachments": {},
   "cell_type": "markdown",
   "metadata": {
    "id": "COrbehotqLFo"
   },
   "source": [
    "## Training"
   ]
  },
  {
   "attachments": {},
   "cell_type": "markdown",
   "metadata": {
    "id": "-W_a07uIqLFp"
   },
   "source": [
    "### Training loop"
   ]
  },
  {
   "cell_type": "code",
   "execution_count": 56,
   "metadata": {
    "executionInfo": {
     "elapsed": 18,
     "status": "ok",
     "timestamp": 1683806461251,
     "user": {
      "displayName": "Музаффар Файзуллин",
      "userId": "18274565347338952550"
     },
     "user_tz": -180
    },
    "id": "PO1INJGcqLFp"
   },
   "outputs": [],
   "source": [
    "def show_or_save(fig, filename=None):\n",
    "    if filename:\n",
    "        fig.savefig(filename, bbox_inches='tight', pad_inches=0.05)\n",
    "        plt.close(fig)\n",
    "    else:\n",
    "        plt.show()"
   ]
  },
  {
   "cell_type": "code",
   "execution_count": 57,
   "metadata": {
    "executionInfo": {
     "elapsed": 19,
     "status": "ok",
     "timestamp": 1683806461252,
     "user": {
      "displayName": "Музаффар Файзуллин",
      "userId": "18274565347338952550"
     },
     "user_tz": -180
    },
    "id": "ZuMeQduBqLFp"
   },
   "outputs": [],
   "source": [
    "class History:\n",
    "    def __init__(self):\n",
    "        self.values = defaultdict(list)\n",
    "\n",
    "    def append(self, key, value):\n",
    "        self.values[key].append(value)\n",
    "\n",
    "    def reset(self):\n",
    "        for k in self.values.keys():\n",
    "            self.values[k] = []\n",
    "\n",
    "    def _plot(self, key, line_type='-', label=None):\n",
    "        if not label: label=key\n",
    "        xs = np.arange(1, len(self.values[key])+1)\n",
    "        self.ax.plot(xs, self.values[key], line_type, label=label)\n",
    "\n",
    "    def plot_train_val(self, key, x_is_batch=False, ylog=False, filename=None):\n",
    "        fig = plt.figure()\n",
    "        self.ax = fig.add_subplot(111)\n",
    "        self._plot('train ' + key, '.-', 'train')\n",
    "        self._plot('val ' + key, '.-', 'val')\n",
    "        self.ax.legend()\n",
    "        if ylog: self.ax.set_yscale('log')\n",
    "        self.ax.set_xlabel('batch' if x_is_batch else 'epoch')\n",
    "        self.ax.set_ylabel(key)\n",
    "        show_or_save(fig, filename)"
   ]
  },
  {
   "cell_type": "code",
   "execution_count": 58,
   "metadata": {
    "executionInfo": {
     "elapsed": 19,
     "status": "ok",
     "timestamp": 1683806461252,
     "user": {
      "displayName": "Музаффар Файзуллин",
      "userId": "18274565347338952550"
     },
     "user_tz": -180
    },
    "id": "7h7ci371qLFq"
   },
   "outputs": [],
   "source": [
    "class Learner:\n",
    "    def __init__(self, model, loss, optimizer, train_loader, val_loader, device,\n",
    "                 epoch_scheduler=None, batch_scheduler=None):\n",
    "        self.model = model\n",
    "        self.loss = loss\n",
    "        self.optimizer = optimizer\n",
    "        self.train_loader = train_loader\n",
    "        self.val_loader = val_loader\n",
    "        self.device = device\n",
    "        self.epoch_scheduler = epoch_scheduler\n",
    "        self.batch_scheduler = batch_scheduler\n",
    "        self.history = History()\n",
    "    \n",
    "    \n",
    "    def iterate(self, loader, msg=\"\", backward_pass=False):\n",
    "        total_loss = 0.0\n",
    "        num_samples = 0\n",
    "        num_correct = 0\n",
    "        \n",
    "        pbar = tqdm(enumerate(loader), total=len(loader))\n",
    "        for it, (X, Y) in pbar:\n",
    "            X, Y = X.to(self.device), Y.to(self.device)\n",
    "            Y_pred = self.model(X)\n",
    "            batch_size = X.size(0)\n",
    "            batch_loss = self.loss(Y_pred, Y)\n",
    "            if backward_pass:\n",
    "                self.optimizer.zero_grad()\n",
    "                batch_loss.backward()\n",
    "                self.optimizer.step()\n",
    "                if self.batch_scheduler is not None:\n",
    "                    self.batch_scheduler.step()\n",
    "            \n",
    "            Y_pred.detach_() # conserve memory\n",
    "            labels_pred = torch.argmax(Y_pred, -1)\n",
    "            total_loss += batch_size * batch_loss.item()\n",
    "            num_correct += (labels_pred == Y).sum()\n",
    "            num_samples += batch_size\n",
    "            \n",
    "            pbar.set_description(\"{} iter {}: loss {:.3f}, acc {:.3f}\".format(\n",
    "                msg, it, total_loss / num_samples, float(num_correct) / num_samples))\n",
    "    \n",
    "        avg_loss = total_loss / num_samples\n",
    "        accuracy = float(num_correct) / num_samples\n",
    "        return avg_loss, accuracy\n",
    "    \n",
    "    \n",
    "    def train(self, msg):\n",
    "        self.model.train()\n",
    "        train_loss, train_acc = self.iterate(self.train_loader, msg + ' train:', backward_pass=True)\n",
    "        self.history.append('train loss', train_loss)\n",
    "        self.history.append('train acc', train_acc)\n",
    "\n",
    "        \n",
    "    def validate(self, msg):\n",
    "        self.model.eval()\n",
    "        with torch.no_grad():\n",
    "            val_loss, val_acc = self.iterate(self.val_loader, msg + ' val:')\n",
    "        self.history.append('val loss', val_loss)\n",
    "        self.history.append('val acc', val_acc)\n",
    "\n",
    "\n",
    "    def fit(self, epochs):\n",
    "        for e in range(epochs):\n",
    "            msg = f'epoch {e+1}/{epochs}'\n",
    "            self.train(msg)\n",
    "            self.validate(msg)\n",
    "            if self.epoch_scheduler is not None:\n",
    "                self.epoch_scheduler.step()"
   ]
  },
  {
   "attachments": {},
   "cell_type": "markdown",
   "metadata": {
    "id": "XcbbqLnTqLFq"
   },
   "source": [
    "### Start training"
   ]
  },
  {
   "cell_type": "code",
   "execution_count": 59,
   "metadata": {
    "executionInfo": {
     "elapsed": 18,
     "status": "ok",
     "timestamp": 1683806461252,
     "user": {
      "displayName": "Музаффар Файзуллин",
      "userId": "18274565347338952550"
     },
     "user_tz": -180
    },
    "id": "R1Ngma47qLFq"
   },
   "outputs": [],
   "source": [
    "loss = nn.CrossEntropyLoss()"
   ]
  },
  {
   "cell_type": "code",
   "execution_count": 60,
   "metadata": {
    "executionInfo": {
     "elapsed": 19,
     "status": "ok",
     "timestamp": 1683806461253,
     "user": {
      "displayName": "Музаффар Файзуллин",
      "userId": "18274565347338952550"
     },
     "user_tz": -180
    },
    "id": "y0FyqeAuqLFr"
   },
   "outputs": [],
   "source": [
    "optimizer = optim.AdamW(model.parameters(), lr=LEARNING_RATE, weight_decay=WEIGHT_DECAY)"
   ]
  },
  {
   "cell_type": "code",
   "execution_count": 61,
   "metadata": {
    "executionInfo": {
     "elapsed": 19,
     "status": "ok",
     "timestamp": 1683806461253,
     "user": {
      "displayName": "Музаффар Файзуллин",
      "userId": "18274565347338952550"
     },
     "user_tz": -180
    },
    "id": "ihwqS7lhqLFr"
   },
   "outputs": [],
   "source": [
    "learner = Learner(model, loss, optimizer, train_loader, val_loader, DEVICE)"
   ]
  },
  {
   "cell_type": "code",
   "execution_count": 62,
   "metadata": {
    "executionInfo": {
     "elapsed": 4,
     "status": "ok",
     "timestamp": 1683806461681,
     "user": {
      "displayName": "Музаффар Файзуллин",
      "userId": "18274565347338952550"
     },
     "user_tz": -180
    },
    "id": "V0na5nIeqLFr"
   },
   "outputs": [],
   "source": [
    "learner.batch_scheduler = optim.lr_scheduler.OneCycleLR(optimizer, max_lr=LEARNING_RATE,\n",
    "                                                        steps_per_epoch=len(train_loader),\n",
    "                                                        epochs=EPOCHS)"
   ]
  },
  {
   "cell_type": "code",
   "execution_count": 63,
   "metadata": {
    "colab": {
     "base_uri": "https://localhost:8080/"
    },
    "id": "edDefv5BqLFr",
    "outputId": "3ab6dea7-dd0f-4d49-d6b9-67559d711a13"
   },
   "outputs": [
    {
     "name": "stderr",
     "output_type": "stream",
     "text": [
      "epoch 1/50 train: iter 390: loss 2.276, acc 0.196: 100%|██████████| 391/391 [00:58<00:00,  6.73it/s]\n",
      "epoch 1/50 val: iter 78: loss 2.089, acc 0.221: 100%|██████████| 79/79 [00:04<00:00, 19.62it/s]\n",
      "epoch 2/50 train: iter 390: loss 1.871, acc 0.290: 100%|██████████| 391/391 [00:57<00:00,  6.77it/s]\n",
      "epoch 2/50 val: iter 78: loss 1.738, acc 0.349: 100%|██████████| 79/79 [00:04<00:00, 19.56it/s]\n",
      "epoch 3/50 train: iter 390: loss 1.726, acc 0.352: 100%|██████████| 391/391 [00:58<00:00,  6.69it/s]\n",
      "epoch 3/50 val: iter 78: loss 1.583, acc 0.408: 100%|██████████| 79/79 [00:04<00:00, 19.37it/s]\n",
      "epoch 4/50 train: iter 390: loss 1.614, acc 0.404: 100%|██████████| 391/391 [00:58<00:00,  6.63it/s]\n",
      "epoch 4/50 val: iter 78: loss 1.545, acc 0.436: 100%|██████████| 79/79 [00:04<00:00, 19.22it/s]\n",
      "epoch 5/50 train: iter 390: loss 1.533, acc 0.439: 100%|██████████| 391/391 [00:59<00:00,  6.61it/s]\n",
      "epoch 5/50 val: iter 78: loss 1.485, acc 0.466: 100%|██████████| 79/79 [00:04<00:00, 19.13it/s]\n",
      "epoch 6/50 train: iter 390: loss 1.469, acc 0.465: 100%|██████████| 391/391 [00:59<00:00,  6.56it/s]\n",
      "epoch 6/50 val: iter 78: loss 1.350, acc 0.512: 100%|██████████| 79/79 [00:04<00:00, 19.12it/s]\n",
      "epoch 7/50 train: iter 390: loss 1.419, acc 0.482: 100%|██████████| 391/391 [01:00<00:00,  6.51it/s]\n",
      "epoch 7/50 val: iter 78: loss 1.297, acc 0.533: 100%|██████████| 79/79 [00:04<00:00, 18.89it/s]\n",
      "epoch 8/50 train: iter 390: loss 1.389, acc 0.494: 100%|██████████| 391/391 [01:00<00:00,  6.50it/s]\n",
      "epoch 8/50 val: iter 78: loss 1.282, acc 0.534: 100%|██████████| 79/79 [00:04<00:00, 18.89it/s]\n",
      "epoch 9/50 train: iter 390: loss 1.368, acc 0.503: 100%|██████████| 391/391 [00:59<00:00,  6.52it/s]\n",
      "epoch 9/50 val: iter 78: loss 1.248, acc 0.548: 100%|██████████| 79/79 [00:04<00:00, 19.00it/s]\n",
      "epoch 10/50 train: iter 390: loss 1.336, acc 0.516: 100%|██████████| 391/391 [00:59<00:00,  6.54it/s]\n",
      "epoch 10/50 val: iter 78: loss 1.229, acc 0.563: 100%|██████████| 79/79 [00:04<00:00, 19.04it/s]\n",
      "epoch 11/50 train: iter 390: loss 1.319, acc 0.522: 100%|██████████| 391/391 [00:59<00:00,  6.55it/s]\n",
      "epoch 11/50 val: iter 78: loss 1.226, acc 0.556: 100%|██████████| 79/79 [00:04<00:00, 18.97it/s]\n",
      "epoch 12/50 train: iter 390: loss 1.306, acc 0.527: 100%|██████████| 391/391 [00:59<00:00,  6.55it/s]\n",
      "epoch 12/50 val: iter 78: loss 1.232, acc 0.561: 100%|██████████| 79/79 [00:04<00:00, 18.98it/s]\n",
      "epoch 13/50 train: iter 390: loss 1.279, acc 0.537: 100%|██████████| 391/391 [00:59<00:00,  6.55it/s]\n",
      "epoch 13/50 val: iter 78: loss 1.239, acc 0.549: 100%|██████████| 79/79 [00:04<00:00, 18.99it/s]\n",
      "epoch 14/50 train: iter 390: loss 1.263, acc 0.541: 100%|██████████| 391/391 [00:59<00:00,  6.56it/s]\n",
      "epoch 14/50 val: iter 78: loss 1.251, acc 0.561: 100%|██████████| 79/79 [00:04<00:00, 19.01it/s]\n",
      "epoch 15/50 train: iter 390: loss 1.252, acc 0.551: 100%|██████████| 391/391 [00:59<00:00,  6.57it/s]\n",
      "epoch 15/50 val: iter 78: loss 1.164, acc 0.580: 100%|██████████| 79/79 [00:04<00:00, 19.05it/s]\n",
      "epoch 16/50 train: iter 390: loss 1.231, acc 0.556: 100%|██████████| 391/391 [00:59<00:00,  6.56it/s]\n",
      "epoch 16/50 val: iter 78: loss 1.218, acc 0.576: 100%|██████████| 79/79 [00:04<00:00, 18.99it/s]\n",
      "epoch 17/50 train: iter 390: loss 1.219, acc 0.560: 100%|██████████| 391/391 [00:59<00:00,  6.56it/s]\n",
      "epoch 17/50 val: iter 78: loss 1.125, acc 0.596: 100%|██████████| 79/79 [00:04<00:00, 18.43it/s]\n",
      "epoch 18/50 train: iter 390: loss 1.195, acc 0.569: 100%|██████████| 391/391 [00:59<00:00,  6.53it/s]\n",
      "epoch 18/50 val: iter 78: loss 1.104, acc 0.599: 100%|██████████| 79/79 [00:04<00:00, 19.06it/s]\n",
      "epoch 19/50 train: iter 390: loss 1.177, acc 0.578: 100%|██████████| 391/391 [00:59<00:00,  6.56it/s]\n",
      "epoch 19/50 val: iter 78: loss 1.112, acc 0.593: 100%|██████████| 79/79 [00:04<00:00, 19.05it/s]\n",
      "epoch 20/50 train: iter 390: loss 1.163, acc 0.580: 100%|██████████| 391/391 [00:59<00:00,  6.57it/s]\n",
      "epoch 20/50 val: iter 78: loss 1.128, acc 0.601: 100%|██████████| 79/79 [00:04<00:00, 19.06it/s]\n",
      "epoch 21/50 train: iter 390: loss 1.141, acc 0.589: 100%|██████████| 391/391 [00:59<00:00,  6.53it/s]\n",
      "epoch 21/50 val: iter 78: loss 1.068, acc 0.611: 100%|██████████| 79/79 [00:04<00:00, 18.73it/s]\n",
      "epoch 22/50 train: iter 390: loss 1.118, acc 0.597: 100%|██████████| 391/391 [00:59<00:00,  6.56it/s]\n",
      "epoch 22/50 val: iter 78: loss 1.056, acc 0.621: 100%|██████████| 79/79 [00:04<00:00, 19.01it/s]\n",
      "epoch 23/50 train: iter 390: loss 1.102, acc 0.605: 100%|██████████| 391/391 [00:59<00:00,  6.58it/s]\n",
      "epoch 23/50 val: iter 78: loss 1.050, acc 0.622: 100%|██████████| 79/79 [00:04<00:00, 19.02it/s]\n",
      "epoch 24/50 train: iter 390: loss 1.088, acc 0.611: 100%|██████████| 391/391 [00:59<00:00,  6.59it/s]\n",
      "epoch 24/50 val: iter 78: loss 1.023, acc 0.626: 100%|██████████| 79/79 [00:04<00:00, 19.10it/s]\n",
      "epoch 25/50 train: iter 390: loss 1.064, acc 0.615: 100%|██████████| 391/391 [00:59<00:00,  6.55it/s]\n",
      "epoch 25/50 val: iter 78: loss 1.017, acc 0.629: 100%|██████████| 79/79 [00:04<00:00, 19.04it/s]\n",
      "epoch 26/50 train: iter 390: loss 1.057, acc 0.619: 100%|██████████| 391/391 [00:59<00:00,  6.55it/s]\n",
      "epoch 26/50 val: iter 78: loss 0.980, acc 0.646: 100%|██████████| 79/79 [00:04<00:00, 19.06it/s]\n",
      "epoch 27/50 train: iter 390: loss 1.037, acc 0.624: 100%|██████████| 391/391 [00:59<00:00,  6.56it/s]\n",
      "epoch 27/50 val: iter 78: loss 0.972, acc 0.657: 100%|██████████| 79/79 [00:04<00:00, 19.15it/s]\n",
      "epoch 28/50 train: iter 390: loss 1.016, acc 0.636: 100%|██████████| 391/391 [00:59<00:00,  6.57it/s]\n",
      "epoch 28/50 val: iter 78: loss 0.954, acc 0.662: 100%|██████████| 79/79 [00:04<00:00, 18.95it/s]\n",
      "epoch 29/50 train: iter 390: loss 0.994, acc 0.642: 100%|██████████| 391/391 [00:59<00:00,  6.54it/s]\n",
      "epoch 29/50 val: iter 78: loss 0.936, acc 0.667: 100%|██████████| 79/79 [00:04<00:00, 18.47it/s]\n",
      "epoch 30/50 train: iter 390: loss 0.977, acc 0.650: 100%|██████████| 391/391 [00:59<00:00,  6.53it/s]\n",
      "epoch 30/50 val: iter 78: loss 0.962, acc 0.658: 100%|██████████| 79/79 [00:04<00:00, 18.89it/s]\n",
      "epoch 31/50 train: iter 390: loss 0.952, acc 0.656: 100%|██████████| 391/391 [00:59<00:00,  6.56it/s]\n",
      "epoch 31/50 val: iter 78: loss 0.942, acc 0.657: 100%|██████████| 79/79 [00:04<00:00, 19.06it/s]\n",
      "epoch 32/50 train: iter 390: loss 0.933, acc 0.666: 100%|██████████| 391/391 [00:59<00:00,  6.55it/s]\n",
      "epoch 32/50 val: iter 78: loss 0.886, acc 0.681: 100%|██████████| 79/79 [00:04<00:00, 19.03it/s]\n",
      "epoch 33/50 train: iter 390: loss 0.914, acc 0.670: 100%|██████████| 391/391 [00:59<00:00,  6.55it/s]\n",
      "epoch 33/50 val: iter 78: loss 0.861, acc 0.691: 100%|██████████| 79/79 [00:04<00:00, 19.03it/s]\n",
      "epoch 34/50 train: iter 390: loss 0.896, acc 0.678: 100%|██████████| 391/391 [00:59<00:00,  6.56it/s]\n",
      "epoch 34/50 val: iter 78: loss 0.870, acc 0.689: 100%|██████████| 79/79 [00:04<00:00, 19.26it/s]\n",
      "epoch 35/50 train: iter 390: loss 0.879, acc 0.684: 100%|██████████| 391/391 [00:59<00:00,  6.55it/s]\n",
      "epoch 35/50 val: iter 78: loss 0.859, acc 0.697: 100%|██████████| 79/79 [00:04<00:00, 18.96it/s]\n",
      "epoch 36/50 train: iter 390: loss 0.851, acc 0.694: 100%|██████████| 391/391 [00:59<00:00,  6.56it/s]\n",
      "epoch 36/50 val: iter 78: loss 0.859, acc 0.692: 100%|██████████| 79/79 [00:04<00:00, 18.98it/s]\n",
      "epoch 37/50 train: iter 390: loss 0.832, acc 0.701: 100%|██████████| 391/391 [00:59<00:00,  6.55it/s]\n",
      "epoch 37/50 val: iter 78: loss 0.832, acc 0.702: 100%|██████████| 79/79 [00:04<00:00, 18.85it/s]\n",
      "epoch 38/50 train: iter 390: loss 0.814, acc 0.706: 100%|██████████| 391/391 [00:59<00:00,  6.56it/s]\n",
      "epoch 38/50 val: iter 78: loss 0.843, acc 0.703: 100%|██████████| 79/79 [00:04<00:00, 18.73it/s]\n",
      "epoch 39/50 train: iter 390: loss 0.795, acc 0.713: 100%|██████████| 391/391 [00:59<00:00,  6.54it/s]\n",
      "epoch 39/50 val: iter 78: loss 0.832, acc 0.704: 100%|██████████| 79/79 [00:04<00:00, 18.81it/s]\n",
      "epoch 40/50 train: iter 390: loss 0.775, acc 0.719: 100%|██████████| 391/391 [00:59<00:00,  6.54it/s]\n",
      "epoch 40/50 val: iter 78: loss 0.808, acc 0.716: 100%|██████████| 79/79 [00:04<00:00, 19.34it/s]\n",
      "epoch 41/50 train: iter 390: loss 0.759, acc 0.727: 100%|██████████| 391/391 [00:59<00:00,  6.56it/s]\n",
      "epoch 41/50 val: iter 78: loss 0.814, acc 0.714: 100%|██████████| 79/79 [00:04<00:00, 19.01it/s]\n",
      "epoch 42/50 train: iter 390: loss 0.748, acc 0.729: 100%|██████████| 391/391 [00:59<00:00,  6.55it/s]\n",
      "epoch 42/50 val: iter 78: loss 0.796, acc 0.721: 100%|██████████| 79/79 [00:04<00:00, 19.04it/s]\n",
      "epoch 43/50 train: iter 390: loss 0.726, acc 0.737: 100%|██████████| 391/391 [00:59<00:00,  6.54it/s]\n",
      "epoch 43/50 val: iter 78: loss 0.787, acc 0.722: 100%|██████████| 79/79 [00:04<00:00, 18.90it/s]\n",
      "epoch 44/50 train: iter 390: loss 0.710, acc 0.744: 100%|██████████| 391/391 [00:59<00:00,  6.55it/s]\n",
      "epoch 44/50 val: iter 78: loss 0.796, acc 0.721: 100%|██████████| 79/79 [00:04<00:00, 18.90it/s]\n",
      "epoch 45/50 train: iter 390: loss 0.710, acc 0.744: 100%|██████████| 391/391 [00:59<00:00,  6.57it/s]\n",
      "epoch 45/50 val: iter 78: loss 0.781, acc 0.725: 100%|██████████| 79/79 [00:04<00:00, 18.99it/s]\n",
      "epoch 46/50 train: iter 390: loss 0.693, acc 0.750: 100%|██████████| 391/391 [00:59<00:00,  6.55it/s]\n",
      "epoch 46/50 val: iter 78: loss 0.781, acc 0.727: 100%|██████████| 79/79 [00:04<00:00, 18.99it/s]\n",
      "epoch 47/50 train: iter 390: loss 0.686, acc 0.755: 100%|██████████| 391/391 [00:59<00:00,  6.53it/s]\n",
      "epoch 47/50 val: iter 78: loss 0.779, acc 0.729: 100%|██████████| 79/79 [00:04<00:00, 18.95it/s]\n",
      "epoch 48/50 train: iter 390: loss 0.678, acc 0.756: 100%|██████████| 391/391 [00:59<00:00,  6.56it/s]\n",
      "epoch 48/50 val: iter 78: loss 0.775, acc 0.731: 100%|██████████| 79/79 [00:04<00:00, 18.79it/s]\n",
      "epoch 49/50 train: iter 390: loss 0.678, acc 0.755: 100%|██████████| 391/391 [00:59<00:00,  6.54it/s]\n",
      "epoch 49/50 val: iter 78: loss 0.774, acc 0.731: 100%|██████████| 79/79 [00:04<00:00, 18.86it/s]\n",
      "epoch 50/50 train: iter 390: loss 0.676, acc 0.757: 100%|██████████| 391/391 [00:59<00:00,  6.54it/s]\n",
      "epoch 50/50 val: iter 78: loss 0.775, acc 0.731: 100%|██████████| 79/79 [00:04<00:00, 18.83it/s]\n"
     ]
    }
   ],
   "source": [
    "learner.fit(EPOCHS)"
   ]
  },
  {
   "cell_type": "code",
   "execution_count": 64,
   "metadata": {
    "id": "2zBdhU3DqLFs",
    "outputId": "68c413bd-7e16-4300-bb59-48960410de35"
   },
   "outputs": [
    {
     "data": {
      "image/png": "[encoded data removed]",
      "text/plain": [
       "<Figure size 432x288 with 1 Axes>"
      ]
     },
     "metadata": {
      "needs_background": "light"
     },
     "output_type": "display_data"
    }
   ],
   "source": [
    "learner.history.plot_train_val('loss')"
   ]
  },
  {
   "cell_type": "code",
   "execution_count": 65,
   "metadata": {
    "id": "Z095zoIFqLFs",
    "outputId": "0e60b5e1-f49e-457d-86d2-42ef671c8f50"
   },
   "outputs": [
    {
     "data": {
      "image/png": "[encoded data removed]",
      "text/plain": [
       "<Figure size 432x288 with 1 Axes>"
      ]
     },
     "metadata": {
      "needs_background": "light"
     },
     "output_type": "display_data"
    }
   ],
   "source": [
    "learner.history.plot_train_val('acc')"
   ]
  }
 ],
 "metadata": {
  "accelerator": "GPU",
  "colab": {
   "provenance": []
  },
  "gpuClass": "standard",
  "kernelspec": {
   "display_name": "Python 3",
   "language": "python",
   "name": "python3"
  },
  "language_info": {
   "codemirror_mode": {
    "name": "ipython",
    "version": 3
   },
   "file_extension": ".py",
   "mimetype": "text/x-python",
   "name": "python",
   "nbconvert_exporter": "python",
   "pygments_lexer": "ipython3",
   "version": "3.11.3"
  }
 },
 "nbformat": 4,
 "nbformat_minor": 1
}
