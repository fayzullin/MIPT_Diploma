{
 "cells": [
  {
   "attachments": {},
   "cell_type": "markdown",
   "metadata": {
    "id": "NvPCLYLxMMgO"
   },
   "source": [
    "# ConvNeXt model"
   ]
  },
  {
   "attachments": {},
   "cell_type": "markdown",
   "metadata": {
    "id": "hho8II0UMMgR"
   },
   "source": [
    "Imports"
   ]
  },
  {
   "cell_type": "code",
   "execution_count": 1,
   "metadata": {
    "colab": {
     "base_uri": "https://localhost:8080/"
    },
    "executionInfo": {
     "elapsed": 3492,
     "status": "ok",
     "timestamp": 1683752042089,
     "user": {
      "displayName": "Музаффар Файзуллин",
      "userId": "18274565347338952550"
     },
     "user_tz": -180
    },
    "id": "9upOEWqaMMgR",
    "outputId": "423f654a-4f83-4a4a-81fa-8811a9b68de0"
   },
   "outputs": [
    {
     "name": "stdout",
     "output_type": "stream",
     "text": [
      "Defaulting to user installation because normal site-packages is not writeable\n",
      "Collecting pytorch-ignite\n",
      "  Downloading pytorch_ignite-0.4.12-py3-none-any.whl (266 kB)\n",
      "\u001b[2K     \u001b[90m━━━━━━━━━━━━━━━━━━━━━━━━━━━━━━━━━━━━━━━\u001b[0m \u001b[32m266.8/266.8 kB\u001b[0m \u001b[31m1.9 MB/s\u001b[0m eta \u001b[36m0:00:00\u001b[0ma \u001b[36m0:00:01\u001b[0m\n",
      "\u001b[?25hRequirement already satisfied: torch<3,>=1.3 in /home/mfaizullin/.local/lib/python3.8/site-packages (from pytorch-ignite) (2.0.1)\n",
      "Requirement already satisfied: packaging in /home/mfaizullin/.local/lib/python3.8/site-packages (from pytorch-ignite) (23.1)\n",
      "Requirement already satisfied: nvidia-nccl-cu11==2.14.3 in /home/mfaizullin/.local/lib/python3.8/site-packages (from torch<3,>=1.3->pytorch-ignite) (2.14.3)\n",
      "Requirement already satisfied: nvidia-cuda-nvrtc-cu11==11.7.99 in /home/mfaizullin/.local/lib/python3.8/site-packages (from torch<3,>=1.3->pytorch-ignite) (11.7.99)\n",
      "Requirement already satisfied: jinja2 in /usr/lib/python3/dist-packages (from torch<3,>=1.3->pytorch-ignite) (2.10.1)\n",
      "Requirement already satisfied: nvidia-cuda-cupti-cu11==11.7.101 in /home/mfaizullin/.local/lib/python3.8/site-packages (from torch<3,>=1.3->pytorch-ignite) (11.7.101)\n",
      "Requirement already satisfied: nvidia-curand-cu11==10.2.10.91 in /home/mfaizullin/.local/lib/python3.8/site-packages (from torch<3,>=1.3->pytorch-ignite) (10.2.10.91)\n",
      "Requirement already satisfied: nvidia-cublas-cu11==11.10.3.66 in /home/mfaizullin/.local/lib/python3.8/site-packages (from torch<3,>=1.3->pytorch-ignite) (11.10.3.66)\n",
      "Requirement already satisfied: nvidia-cusparse-cu11==11.7.4.91 in /home/mfaizullin/.local/lib/python3.8/site-packages (from torch<3,>=1.3->pytorch-ignite) (11.7.4.91)\n",
      "Requirement already satisfied: triton==2.0.0 in /home/mfaizullin/.local/lib/python3.8/site-packages (from torch<3,>=1.3->pytorch-ignite) (2.0.0)\n",
      "Requirement already satisfied: nvidia-cuda-runtime-cu11==11.7.99 in /home/mfaizullin/.local/lib/python3.8/site-packages (from torch<3,>=1.3->pytorch-ignite) (11.7.99)\n",
      "Requirement already satisfied: typing-extensions in /usr/local/lib/python3.8/dist-packages (from torch<3,>=1.3->pytorch-ignite) (4.5.0)\n",
      "Requirement already satisfied: nvidia-cudnn-cu11==8.5.0.96 in /home/mfaizullin/.local/lib/python3.8/site-packages (from torch<3,>=1.3->pytorch-ignite) (8.5.0.96)\n",
      "Requirement already satisfied: nvidia-cusolver-cu11==11.4.0.1 in /home/mfaizullin/.local/lib/python3.8/site-packages (from torch<3,>=1.3->pytorch-ignite) (11.4.0.1)\n",
      "Requirement already satisfied: nvidia-nvtx-cu11==11.7.91 in /home/mfaizullin/.local/lib/python3.8/site-packages (from torch<3,>=1.3->pytorch-ignite) (11.7.91)\n",
      "Requirement already satisfied: nvidia-cufft-cu11==10.9.0.58 in /home/mfaizullin/.local/lib/python3.8/site-packages (from torch<3,>=1.3->pytorch-ignite) (10.9.0.58)\n",
      "Requirement already satisfied: sympy in /home/mfaizullin/.local/lib/python3.8/site-packages (from torch<3,>=1.3->pytorch-ignite) (1.12)\n",
      "Requirement already satisfied: networkx in /home/mfaizullin/.local/lib/python3.8/site-packages (from torch<3,>=1.3->pytorch-ignite) (3.1)\n",
      "Requirement already satisfied: filelock in /home/mfaizullin/.local/lib/python3.8/site-packages (from torch<3,>=1.3->pytorch-ignite) (3.12.0)\n",
      "Requirement already satisfied: wheel in /usr/local/lib/python3.8/dist-packages (from nvidia-cublas-cu11==11.10.3.66->torch<3,>=1.3->pytorch-ignite) (0.36.2)\n",
      "Requirement already satisfied: setuptools in /usr/lib/python3/dist-packages (from nvidia-cublas-cu11==11.10.3.66->torch<3,>=1.3->pytorch-ignite) (45.2.0)\n",
      "Requirement already satisfied: cmake in /home/mfaizullin/.local/lib/python3.8/site-packages (from triton==2.0.0->torch<3,>=1.3->pytorch-ignite) (3.26.3)\n",
      "Requirement already satisfied: lit in /home/mfaizullin/.local/lib/python3.8/site-packages (from triton==2.0.0->torch<3,>=1.3->pytorch-ignite) (16.0.3)\n",
      "Requirement already satisfied: mpmath>=0.19 in /home/mfaizullin/.local/lib/python3.8/site-packages (from sympy->torch<3,>=1.3->pytorch-ignite) (1.3.0)\n",
      "Installing collected packages: pytorch-ignite\n",
      "Successfully installed pytorch-ignite-0.4.12\n",
      "\n",
      "\u001b[1m[\u001b[0m\u001b[34;49mnotice\u001b[0m\u001b[1;39;49m]\u001b[0m\u001b[39;49m A new release of pip is available: \u001b[0m\u001b[31;49m23.0.1\u001b[0m\u001b[39;49m -> \u001b[0m\u001b[32;49m23.1.2\u001b[0m\n",
      "\u001b[1m[\u001b[0m\u001b[34;49mnotice\u001b[0m\u001b[1;39;49m]\u001b[0m\u001b[39;49m To update, run: \u001b[0m\u001b[32;49mpython3 -m pip install --upgrade pip\u001b[0m\n"
     ]
    }
   ],
   "source": [
    "import numpy as np\n",
    "from collections import defaultdict\n",
    "import matplotlib.pyplot as plt\n",
    "\n",
    "import torch\n",
    "import torch.nn as nn\n",
    "import torch.optim as optim\n",
    "import torch.nn.functional as F\n",
    "from torchvision import datasets, transforms\n",
    "\n",
    "!pip install pytorch-ignite\n",
    "from ignite.engine import Events, create_supervised_trainer, create_supervised_evaluator\n",
    "import ignite.metrics\n",
    "import ignite.contrib.handlers"
   ]
  },
  {
   "attachments": {},
   "cell_type": "markdown",
   "metadata": {
    "id": "93hFvC0FMMgS"
   },
   "source": [
    "Configuration"
   ]
  },
  {
   "cell_type": "code",
   "execution_count": 2,
   "metadata": {
    "id": "7OdjfdjGMMgS"
   },
   "outputs": [],
   "source": [
    "DATA_DIR='./data'\n",
    "\n",
    "IMAGE_SIZE = 32\n",
    "\n",
    "NUM_CLASSES = 100\n",
    "NUM_WORKERS = 8\n",
    "BATCH_SIZE = 32\n",
    "EPOCHS = 100\n",
    "\n",
    "LEARNING_RATE = 1e-3\n",
    "WEIGHT_DECAY = 1e-1\n",
    "\n",
    "SAVE_PATH = './models/convnext_weights.pkl'"
   ]
  },
  {
   "cell_type": "code",
   "execution_count": 3,
   "metadata": {
    "colab": {
     "base_uri": "https://localhost:8080/"
    },
    "executionInfo": {
     "elapsed": 242,
     "status": "ok",
     "timestamp": 1683752094776,
     "user": {
      "displayName": "Музаффар Файзуллин",
      "userId": "18274565347338952550"
     },
     "user_tz": -180
    },
    "id": "qKeJc3-YMMgS",
    "outputId": "bcb818a3-71b5-4446-faf6-ee215dcd001d"
   },
   "outputs": [
    {
     "name": "stdout",
     "output_type": "stream",
     "text": [
      "device: cuda:2\n"
     ]
    }
   ],
   "source": [
    "DEVICE = torch.device(\"cuda:2\") if torch.cuda.is_available() else torch.device(\"cpu\")\n",
    "print(\"device:\", DEVICE)"
   ]
  },
  {
   "attachments": {},
   "cell_type": "markdown",
   "metadata": {
    "id": "ZHOTPc68MMgT"
   },
   "source": [
    "## Data"
   ]
  },
  {
   "cell_type": "code",
   "execution_count": 5,
   "metadata": {
    "id": "28E5z6FmMMgT"
   },
   "outputs": [],
   "source": [
    "train_transform = transforms.Compose([\n",
    "    transforms.RandomHorizontalFlip(),\n",
    "    transforms.RandomCrop(IMAGE_SIZE, padding=4),\n",
    "    transforms.ColorJitter(brightness=0.2, contrast=0.2, saturation=0.2),\n",
    "    transforms.ToTensor()\n",
    "])"
   ]
  },
  {
   "cell_type": "code",
   "execution_count": 6,
   "metadata": {
    "colab": {
     "base_uri": "https://localhost:8080/"
    },
    "executionInfo": {
     "elapsed": 10781,
     "status": "ok",
     "timestamp": 1683752117991,
     "user": {
      "displayName": "Музаффар Файзуллин",
      "userId": "18274565347338952550"
     },
     "user_tz": -180
    },
    "id": "rTlR1mAMMMgT",
    "outputId": "edecf6f8-b8e7-46ee-95db-54c0cf5f0896"
   },
   "outputs": [
    {
     "name": "stdout",
     "output_type": "stream",
     "text": [
      "Downloading https://www.cs.toronto.edu/~kriz/cifar-10-python.tar.gz to ./data/cifar-10-python.tar.gz\n"
     ]
    },
    {
     "name": "stderr",
     "output_type": "stream",
     "text": [
      "100%|██████████| 170498071/170498071 [00:11<00:00, 14450277.58it/s]\n"
     ]
    },
    {
     "name": "stdout",
     "output_type": "stream",
     "text": [
      "Extracting ./data/cifar-10-python.tar.gz to ./data\n",
      "Files already downloaded and verified\n"
     ]
    }
   ],
   "source": [
    "train_dset = datasets.CIFAR10(root=DATA_DIR, train=True, download=True, transform=train_transform)\n",
    "test_dset = datasets.CIFAR10(root=DATA_DIR, train=False, download=True, transform=transforms.ToTensor())"
   ]
  },
  {
   "cell_type": "code",
   "execution_count": 7,
   "metadata": {
    "id": "By5N8IqxMMgU"
   },
   "outputs": [],
   "source": [
    "def dataset_show_image(dset, idx):\n",
    "    X, Y = dset[idx]\n",
    "    title = \"Ground truth: {}\".format(dset.classes[Y])\n",
    "    fig = plt.figure()\n",
    "    ax = fig.add_subplot(111)\n",
    "    ax.set_axis_off()\n",
    "    ax.imshow(np.moveaxis(X.numpy(), 0, -1))\n",
    "    ax.set_title(title)\n",
    "    plt.show()"
   ]
  },
  {
   "cell_type": "code",
   "execution_count": 8,
   "metadata": {
    "colab": {
     "base_uri": "https://localhost:8080/",
     "height": 428
    },
    "executionInfo": {
     "elapsed": 390,
     "status": "ok",
     "timestamp": 1683752118379,
     "user": {
      "displayName": "Музаффар Файзуллин",
      "userId": "18274565347338952550"
     },
     "user_tz": -180
    },
    "id": "rdXlFVt0MMgU",
    "outputId": "345f2197-6a24-4882-f87c-25effcac2ca2"
   },
   "outputs": [
    {
     "data": {
      "image/png": "[encoded data removed]",
      "text/plain": [
       "<Figure size 432x288 with 1 Axes>"
      ]
     },
     "metadata": {
      "needs_background": "light"
     },
     "output_type": "display_data"
    }
   ],
   "source": [
    "dataset_show_image(test_dset, 1)"
   ]
  },
  {
   "cell_type": "code",
   "execution_count": 9,
   "metadata": {
    "colab": {
     "base_uri": "https://localhost:8080/"
    },
    "executionInfo": {
     "elapsed": 6,
     "status": "ok",
     "timestamp": 1683752118380,
     "user": {
      "displayName": "Музаффар Файзуллин",
      "userId": "18274565347338952550"
     },
     "user_tz": -180
    },
    "id": "DxACpOp0MMgV",
    "outputId": "7d1fd1ab-553e-4325-b05c-ef5cb23bfcf9"
   },
   "outputs": [],
   "source": [
    "train_loader = torch.utils.data.DataLoader(train_dset, batch_size=BATCH_SIZE, shuffle=True,\n",
    "                                           num_workers=NUM_WORKERS, pin_memory=True)\n",
    "\n",
    "test_loader = torch.utils.data.DataLoader(test_dset, batch_size=BATCH_SIZE, shuffle=False,\n",
    "                                          num_workers=NUM_WORKERS, pin_memory=True)"
   ]
  },
  {
   "attachments": {},
   "cell_type": "markdown",
   "metadata": {
    "id": "L1k1Oil_MMgV"
   },
   "source": [
    "## Model"
   ]
  },
  {
   "attachments": {},
   "cell_type": "markdown",
   "metadata": {
    "id": "hgOl6zPbMMgV"
   },
   "source": [
    "Utilities"
   ]
  },
  {
   "cell_type": "code",
   "execution_count": 10,
   "metadata": {
    "id": "-moWicV4MMgV"
   },
   "outputs": [],
   "source": [
    "class LayerNormChannels(nn.Module):\n",
    "    def __init__(self, channels):\n",
    "        super().__init__()\n",
    "        self.norm = nn.LayerNorm(channels)\n",
    "    \n",
    "    def forward(self, x):\n",
    "        x = x.transpose(1, -1)\n",
    "        x = self.norm(x)\n",
    "        x = x.transpose(-1, 1)\n",
    "        return x"
   ]
  },
  {
   "cell_type": "code",
   "execution_count": 11,
   "metadata": {
    "id": "Gg1CoVblMMgW"
   },
   "outputs": [],
   "source": [
    "class Residual(nn.Module):\n",
    "    def __init__(self, *layers):\n",
    "        super().__init__()\n",
    "        self.residual = nn.Sequential(*layers)\n",
    "        self.gamma = nn.Parameter(torch.zeros(1))\n",
    "    \n",
    "    def forward(self, x):\n",
    "        return x + self.gamma * self.residual(x)"
   ]
  },
  {
   "attachments": {},
   "cell_type": "markdown",
   "metadata": {
    "id": "Z0vWoR5mMMgW"
   },
   "source": [
    "ConvNeXt stages"
   ]
  },
  {
   "cell_type": "code",
   "execution_count": 12,
   "metadata": {
    "id": "4NaipsloMMgW",
    "tags": []
   },
   "outputs": [],
   "source": [
    "class ConvNeXtBlock(Residual):\n",
    "    def __init__(self, channels, kernel_size, mult=4, p_drop=0.):\n",
    "        padding = (kernel_size - 1) // 2\n",
    "        hidden_channels = channels * mult\n",
    "        super().__init__(\n",
    "            nn.Conv2d(channels, channels, kernel_size, padding=padding, groups=channels),\n",
    "            LayerNormChannels(channels),\n",
    "            nn.Conv2d(channels, hidden_channels, 1),\n",
    "            nn.GELU(),\n",
    "            nn.Conv2d(hidden_channels, channels, 1),\n",
    "            nn.Dropout(p_drop)\n",
    "        )"
   ]
  },
  {
   "cell_type": "code",
   "execution_count": 13,
   "metadata": {
    "id": "AkIkAqeCMMgX"
   },
   "outputs": [],
   "source": [
    "class DownsampleBlock(nn.Sequential):\n",
    "    def __init__(self, in_channels, out_channels, stride=2):\n",
    "        super().__init__(\n",
    "            LayerNormChannels(in_channels),\n",
    "            nn.Conv2d(in_channels, out_channels, stride, stride=stride)\n",
    "        )"
   ]
  },
  {
   "cell_type": "code",
   "execution_count": 14,
   "metadata": {
    "id": "5mm13qRZMMgX"
   },
   "outputs": [],
   "source": [
    "class Stage(nn.Sequential):\n",
    "    def __init__(self, in_channels, out_channels, num_blocks, kernel_size, p_drop=0.):\n",
    "        layers = [] if in_channels == out_channels else [DownsampleBlock(in_channels, out_channels)]\n",
    "        layers += [ConvNeXtBlock(out_channels, kernel_size, p_drop=p_drop) for _ in range(num_blocks)]\n",
    "        super().__init__(*layers)"
   ]
  },
  {
   "cell_type": "code",
   "execution_count": 15,
   "metadata": {
    "id": "jXhInQqNMMgX"
   },
   "outputs": [],
   "source": [
    "class ConvNeXtBody(nn.Sequential):\n",
    "    def __init__(self, in_channels, channel_list, num_blocks_list, kernel_size, p_drop=0.):\n",
    "        layers = []\n",
    "        for out_channels, num_blocks in zip(channel_list, num_blocks_list):\n",
    "            layers.append(Stage(in_channels, out_channels, num_blocks, kernel_size, p_drop))\n",
    "            in_channels = out_channels\n",
    "        super().__init__(*layers)"
   ]
  },
  {
   "attachments": {},
   "cell_type": "markdown",
   "metadata": {
    "id": "pHGK8KL2MMgY"
   },
   "source": [
    "Main model"
   ]
  },
  {
   "cell_type": "code",
   "execution_count": 16,
   "metadata": {
    "id": "ZCtCeEPSMMgY"
   },
   "outputs": [],
   "source": [
    "class Stem(nn.Sequential):\n",
    "    def __init__(self, in_channels, out_channels, patch_size):\n",
    "        super().__init__(\n",
    "            nn.Conv2d(in_channels, out_channels, patch_size, stride=patch_size),\n",
    "            LayerNormChannels(out_channels)\n",
    "        )"
   ]
  },
  {
   "cell_type": "code",
   "execution_count": 17,
   "metadata": {
    "id": "K2v81hoDMMgY"
   },
   "outputs": [],
   "source": [
    "class Head(nn.Sequential):\n",
    "    def __init__(self, in_channels, classes):\n",
    "        super().__init__(\n",
    "            nn.AdaptiveAvgPool2d(1),\n",
    "            nn.Flatten(),\n",
    "            nn.LayerNorm(in_channels),\n",
    "            nn.Linear(in_channels, classes)\n",
    "        )"
   ]
  },
  {
   "cell_type": "code",
   "execution_count": 18,
   "metadata": {
    "id": "UXcT58MBMMgZ"
   },
   "outputs": [],
   "source": [
    "class ConvNeXt(nn.Sequential):\n",
    "    def __init__(self, classes, channel_list, num_blocks_list, kernel_size, patch_size,\n",
    "                 in_channels=3, res_p_drop=0.):\n",
    "        super().__init__(\n",
    "            Stem(in_channels, channel_list[0], patch_size),\n",
    "            ConvNeXtBody(channel_list[0], channel_list, num_blocks_list, kernel_size, res_p_drop),\n",
    "            Head(channel_list[-1], classes)\n",
    "        )\n",
    "        self.reset_parameters()\n",
    "    \n",
    "    def reset_parameters(self):\n",
    "        for m in self.modules():\n",
    "            if isinstance(m, (nn.Linear, nn.Conv2d)):\n",
    "                nn.init.normal_(m.weight, std=0.02)\n",
    "                if m.bias is not None: nn.init.zeros_(m.bias)\n",
    "            elif isinstance(m, nn.LayerNorm):\n",
    "                nn.init.constant_(m.weight, 1.)\n",
    "                nn.init.zeros_(m.bias)\n",
    "            elif isinstance(m, Residual):\n",
    "                nn.init.zeros_(m.gamma)\n",
    "    \n",
    "    def separate_parameters(self):\n",
    "        parameters_decay = set()\n",
    "        parameters_no_decay = set()\n",
    "        modules_weight_decay = (nn.Linear, nn.Conv2d)\n",
    "        modules_no_weight_decay = (nn.LayerNorm,)\n",
    "\n",
    "        for m_name, m in self.named_modules():\n",
    "            for param_name, param in m.named_parameters():\n",
    "                full_param_name = f\"{m_name}.{param_name}\" if m_name else param_name\n",
    "\n",
    "                if isinstance(m, modules_no_weight_decay):\n",
    "                    parameters_no_decay.add(full_param_name)\n",
    "                elif param_name.endswith(\"bias\"):\n",
    "                    parameters_no_decay.add(full_param_name)\n",
    "                elif isinstance(m, Residual) and param_name.endswith(\"gamma\"):\n",
    "                    parameters_no_decay.add(full_param_name)\n",
    "                elif isinstance(m, modules_weight_decay):\n",
    "                    parameters_decay.add(full_param_name)\n",
    "\n",
    "        # sanity check\n",
    "        assert len(parameters_decay & parameters_no_decay) == 0\n",
    "        assert len(parameters_decay) + len(parameters_no_decay) == len(list(model.parameters()))\n",
    "\n",
    "        return parameters_decay, parameters_no_decay"
   ]
  },
  {
   "cell_type": "code",
   "execution_count": 19,
   "metadata": {
    "id": "Ouztc9W6MMgZ"
   },
   "outputs": [],
   "source": [
    "model = ConvNeXt(NUM_CLASSES,\n",
    "                 channel_list = [64, 128, 256, 512],\n",
    "                 num_blocks_list = [2, 2, 2, 2],\n",
    "                 kernel_size=7, patch_size=1,\n",
    "                 res_p_drop=0.)"
   ]
  },
  {
   "cell_type": "code",
   "execution_count": 20,
   "metadata": {
    "id": "qf9VAzhNMMgZ"
   },
   "outputs": [],
   "source": [
    "model.to(DEVICE);"
   ]
  },
  {
   "cell_type": "code",
   "execution_count": 21,
   "metadata": {
    "colab": {
     "base_uri": "https://localhost:8080/"
    },
    "executionInfo": {
     "elapsed": 4,
     "status": "ok",
     "timestamp": 1683752137805,
     "user": {
      "displayName": "Музаффар Файзуллин",
      "userId": "18274565347338952550"
     },
     "user_tz": -180
    },
    "id": "IXGOMblaMMga",
    "outputId": "ca28f8f1-4612-4abc-9fc4-51a9e8d51fb1"
   },
   "outputs": [
    {
     "name": "stdout",
     "output_type": "stream",
     "text": [
      "Number of parameters: 6,422,636\n"
     ]
    }
   ],
   "source": [
    "print(\"Number of parameters: {:,}\".format(sum(p.numel() for p in model.parameters())))"
   ]
  },
  {
   "attachments": {},
   "cell_type": "markdown",
   "metadata": {
    "id": "09sBUpp-MMga"
   },
   "source": [
    "## Training"
   ]
  },
  {
   "attachments": {},
   "cell_type": "markdown",
   "metadata": {
    "id": "TxXGZgv9MMga"
   },
   "source": [
    "### Optimizer"
   ]
  },
  {
   "cell_type": "code",
   "execution_count": 22,
   "metadata": {
    "id": "nv2PZIoHMMga"
   },
   "outputs": [],
   "source": [
    "def get_optimizer(model, learning_rate, weight_decay):\n",
    "    param_dict = {pn: p for pn, p in model.named_parameters()}\n",
    "    parameters_decay, parameters_no_decay = model.separate_parameters()\n",
    "    \n",
    "    optim_groups = [\n",
    "        {\"params\": [param_dict[pn] for pn in parameters_decay], \"weight_decay\": weight_decay},\n",
    "        {\"params\": [param_dict[pn] for pn in parameters_no_decay], \"weight_decay\": 0.0},\n",
    "    ]\n",
    "    optimizer = optim.AdamW(optim_groups, lr=learning_rate)\n",
    "    return optimizer"
   ]
  },
  {
   "attachments": {},
   "cell_type": "markdown",
   "metadata": {
    "id": "x6tAsZ7MMMgb"
   },
   "source": [
    "### Setup trainer"
   ]
  },
  {
   "cell_type": "code",
   "execution_count": 23,
   "metadata": {
    "id": "f2P_BveDMMgb"
   },
   "outputs": [],
   "source": [
    "loss = nn.CrossEntropyLoss()"
   ]
  },
  {
   "cell_type": "code",
   "execution_count": 24,
   "metadata": {
    "id": "SO_-fLetMMgb"
   },
   "outputs": [],
   "source": [
    "optimizer = get_optimizer(model, learning_rate=LEARNING_RATE, weight_decay=WEIGHT_DECAY)"
   ]
  },
  {
   "cell_type": "code",
   "execution_count": 25,
   "metadata": {
    "id": "ydGWdNcFMMgb"
   },
   "outputs": [],
   "source": [
    "trainer = create_supervised_trainer(model, optimizer, loss, device=DEVICE)"
   ]
  },
  {
   "cell_type": "code",
   "execution_count": 26,
   "metadata": {
    "id": "XX3XzAm5MMgc"
   },
   "outputs": [],
   "source": [
    "lr_scheduler = optim.lr_scheduler.OneCycleLR(optimizer, max_lr=LEARNING_RATE,\n",
    "                                             steps_per_epoch=len(train_loader), epochs=EPOCHS)"
   ]
  },
  {
   "cell_type": "code",
   "execution_count": 27,
   "metadata": {
    "id": "y05YLe5DMMgc"
   },
   "outputs": [],
   "source": [
    "trainer.add_event_handler(Events.ITERATION_COMPLETED, lambda engine: lr_scheduler.step());"
   ]
  },
  {
   "cell_type": "code",
   "execution_count": 28,
   "metadata": {
    "id": "NQcoCxQtMMgc"
   },
   "outputs": [],
   "source": [
    "ignite.metrics.RunningAverage(output_transform=lambda x: x).attach(trainer, \"loss\")"
   ]
  },
  {
   "attachments": {},
   "cell_type": "markdown",
   "metadata": {
    "id": "OVIhiZfrMMgc"
   },
   "source": [
    "Evaluator"
   ]
  },
  {
   "cell_type": "code",
   "execution_count": 29,
   "metadata": {
    "id": "0B7Iyfl9MMgd"
   },
   "outputs": [],
   "source": [
    "val_metrics = {\"accuracy\": ignite.metrics.Accuracy(), \"loss\": ignite.metrics.Loss(loss)}"
   ]
  },
  {
   "cell_type": "code",
   "execution_count": 30,
   "metadata": {
    "id": "43-4XvEKMMgd"
   },
   "outputs": [],
   "source": [
    "evaluator = create_supervised_evaluator(model, metrics=val_metrics, device=DEVICE)"
   ]
  },
  {
   "cell_type": "code",
   "execution_count": 31,
   "metadata": {
    "id": "VLKwS4sZMMgd"
   },
   "outputs": [],
   "source": [
    "history = defaultdict(list)"
   ]
  },
  {
   "cell_type": "code",
   "execution_count": 32,
   "metadata": {
    "id": "4eZ9krSeMMgd",
    "tags": []
   },
   "outputs": [],
   "source": [
    "@trainer.on(Events.EPOCH_COMPLETED)\n",
    "def log_validation_results(engine):\n",
    "    train_state = engine.state\n",
    "    epoch = train_state.epoch\n",
    "    max_epochs = train_state.max_epochs\n",
    "    train_loss = train_state.metrics[\"loss\"]\n",
    "    history['train loss'].append(train_loss)\n",
    "    \n",
    "    evaluator.run(test_loader)\n",
    "    val_metrics = evaluator.state.metrics\n",
    "    val_loss = val_metrics[\"loss\"]\n",
    "    val_acc = val_metrics[\"accuracy\"]\n",
    "    history['val loss'].append(val_loss)\n",
    "    history['val acc'].append(val_acc)\n",
    "    \n",
    "    print(\"{}/{} - train: loss {:.3f}; val: loss {:.3f} accuracy {:.3f}\".format(\n",
    "        epoch, max_epochs, train_loss, val_loss, val_acc))"
   ]
  },
  {
   "attachments": {},
   "cell_type": "markdown",
   "metadata": {
    "id": "wgi6cIB8MMge"
   },
   "source": [
    "### Start training"
   ]
  },
  {
   "cell_type": "code",
   "execution_count": 33,
   "metadata": {
    "colab": {
     "base_uri": "https://localhost:8080/"
    },
    "execution": {
     "iopub.execute_input": "2022-01-14T18:54:38.553070Z",
     "iopub.status.busy": "2022-01-14T18:54:38.552730Z",
     "iopub.status.idle": "2022-01-14T20:49:43.743963Z",
     "shell.execute_reply": "2022-01-14T20:49:43.743531Z"
    },
    "executionInfo": {
     "elapsed": 9576575,
     "status": "ok",
     "timestamp": 1683761731283,
     "user": {
      "displayName": "Музаффар Файзуллин",
      "userId": "18274565347338952550"
     },
     "user_tz": -180
    },
    "id": "aqYqfUd7MMge",
    "outputId": "4088cb3b-4183-4fd6-83ab-4334317eab79"
   },
   "outputs": [
    {
     "name": "stdout",
     "output_type": "stream",
     "text": [
      "1/100 - train: loss 1.883; val: loss 1.893 accuracy 0.318\n",
      "2/100 - train: loss 1.680; val: loss 1.671 accuracy 0.388\n",
      "3/100 - train: loss 1.599; val: loss 1.545 accuracy 0.437\n",
      "4/100 - train: loss 1.479; val: loss 1.457 accuracy 0.477\n",
      "5/100 - train: loss 1.420; val: loss 1.412 accuracy 0.489\n",
      "6/100 - train: loss 1.373; val: loss 1.342 accuracy 0.514\n",
      "7/100 - train: loss 1.288; val: loss 1.284 accuracy 0.534\n",
      "8/100 - train: loss 1.272; val: loss 1.218 accuracy 0.564\n",
      "9/100 - train: loss 1.168; val: loss 1.151 accuracy 0.589\n",
      "10/100 - train: loss 1.096; val: loss 1.067 accuracy 0.622\n",
      "11/100 - train: loss 0.988; val: loss 0.963 accuracy 0.661\n",
      "12/100 - train: loss 0.925; val: loss 0.873 accuracy 0.691\n",
      "13/100 - train: loss 0.783; val: loss 0.801 accuracy 0.724\n",
      "14/100 - train: loss 0.754; val: loss 0.780 accuracy 0.731\n",
      "15/100 - train: loss 0.702; val: loss 0.719 accuracy 0.751\n",
      "16/100 - train: loss 0.692; val: loss 0.686 accuracy 0.762\n",
      "17/100 - train: loss 0.638; val: loss 0.647 accuracy 0.775\n",
      "18/100 - train: loss 0.612; val: loss 0.656 accuracy 0.779\n",
      "19/100 - train: loss 0.546; val: loss 0.571 accuracy 0.803\n",
      "20/100 - train: loss 0.539; val: loss 0.644 accuracy 0.783\n",
      "21/100 - train: loss 0.534; val: loss 0.557 accuracy 0.811\n",
      "22/100 - train: loss 0.535; val: loss 0.572 accuracy 0.807\n",
      "23/100 - train: loss 0.487; val: loss 0.536 accuracy 0.813\n",
      "24/100 - train: loss 0.520; val: loss 0.551 accuracy 0.818\n",
      "25/100 - train: loss 0.482; val: loss 0.551 accuracy 0.814\n",
      "26/100 - train: loss 0.497; val: loss 0.558 accuracy 0.808\n",
      "27/100 - train: loss 0.469; val: loss 0.561 accuracy 0.813\n",
      "28/100 - train: loss 0.429; val: loss 0.510 accuracy 0.828\n",
      "29/100 - train: loss 0.421; val: loss 0.509 accuracy 0.827\n",
      "30/100 - train: loss 0.461; val: loss 0.485 accuracy 0.835\n",
      "31/100 - train: loss 0.419; val: loss 0.517 accuracy 0.824\n",
      "32/100 - train: loss 0.413; val: loss 0.499 accuracy 0.830\n",
      "33/100 - train: loss 0.426; val: loss 0.474 accuracy 0.838\n",
      "34/100 - train: loss 0.348; val: loss 0.445 accuracy 0.853\n",
      "35/100 - train: loss 0.401; val: loss 0.481 accuracy 0.838\n",
      "36/100 - train: loss 0.353; val: loss 0.497 accuracy 0.837\n",
      "37/100 - train: loss 0.373; val: loss 0.524 accuracy 0.823\n",
      "38/100 - train: loss 0.363; val: loss 0.501 accuracy 0.836\n",
      "39/100 - train: loss 0.334; val: loss 0.444 accuracy 0.853\n",
      "40/100 - train: loss 0.350; val: loss 0.473 accuracy 0.843\n",
      "41/100 - train: loss 0.336; val: loss 0.430 accuracy 0.853\n",
      "42/100 - train: loss 0.341; val: loss 0.464 accuracy 0.846\n",
      "43/100 - train: loss 0.327; val: loss 0.401 accuracy 0.867\n",
      "44/100 - train: loss 0.340; val: loss 0.389 accuracy 0.869\n",
      "45/100 - train: loss 0.282; val: loss 0.474 accuracy 0.844\n",
      "46/100 - train: loss 0.305; val: loss 0.448 accuracy 0.850\n",
      "47/100 - train: loss 0.285; val: loss 0.410 accuracy 0.867\n",
      "48/100 - train: loss 0.277; val: loss 0.415 accuracy 0.864\n",
      "49/100 - train: loss 0.267; val: loss 0.410 accuracy 0.867\n",
      "50/100 - train: loss 0.282; val: loss 0.429 accuracy 0.861\n",
      "51/100 - train: loss 0.260; val: loss 0.434 accuracy 0.862\n",
      "52/100 - train: loss 0.246; val: loss 0.430 accuracy 0.861\n",
      "53/100 - train: loss 0.280; val: loss 0.383 accuracy 0.875\n",
      "54/100 - train: loss 0.239; val: loss 0.396 accuracy 0.870\n",
      "55/100 - train: loss 0.244; val: loss 0.407 accuracy 0.865\n",
      "56/100 - train: loss 0.236; val: loss 0.376 accuracy 0.874\n",
      "57/100 - train: loss 0.220; val: loss 0.402 accuracy 0.874\n",
      "58/100 - train: loss 0.229; val: loss 0.386 accuracy 0.873\n",
      "59/100 - train: loss 0.223; val: loss 0.416 accuracy 0.868\n",
      "60/100 - train: loss 0.190; val: loss 0.372 accuracy 0.885\n",
      "61/100 - train: loss 0.187; val: loss 0.382 accuracy 0.875\n",
      "62/100 - train: loss 0.175; val: loss 0.408 accuracy 0.872\n",
      "63/100 - train: loss 0.192; val: loss 0.389 accuracy 0.881\n",
      "64/100 - train: loss 0.162; val: loss 0.368 accuracy 0.882\n",
      "65/100 - train: loss 0.130; val: loss 0.364 accuracy 0.893\n",
      "66/100 - train: loss 0.155; val: loss 0.369 accuracy 0.890\n",
      "67/100 - train: loss 0.119; val: loss 0.417 accuracy 0.880\n",
      "68/100 - train: loss 0.121; val: loss 0.377 accuracy 0.885\n",
      "69/100 - train: loss 0.100; val: loss 0.382 accuracy 0.890\n",
      "70/100 - train: loss 0.116; val: loss 0.373 accuracy 0.890\n",
      "71/100 - train: loss 0.107; val: loss 0.408 accuracy 0.885\n",
      "72/100 - train: loss 0.090; val: loss 0.413 accuracy 0.882\n",
      "73/100 - train: loss 0.089; val: loss 0.391 accuracy 0.892\n",
      "74/100 - train: loss 0.078; val: loss 0.401 accuracy 0.893\n",
      "75/100 - train: loss 0.077; val: loss 0.419 accuracy 0.890\n",
      "76/100 - train: loss 0.064; val: loss 0.406 accuracy 0.890\n",
      "77/100 - train: loss 0.056; val: loss 0.414 accuracy 0.894\n",
      "78/100 - train: loss 0.045; val: loss 0.402 accuracy 0.897\n",
      "79/100 - train: loss 0.050; val: loss 0.426 accuracy 0.889\n",
      "80/100 - train: loss 0.023; val: loss 0.436 accuracy 0.899\n",
      "81/100 - train: loss 0.044; val: loss 0.402 accuracy 0.901\n",
      "82/100 - train: loss 0.029; val: loss 0.440 accuracy 0.896\n",
      "83/100 - train: loss 0.022; val: loss 0.444 accuracy 0.901\n",
      "84/100 - train: loss 0.018; val: loss 0.411 accuracy 0.905\n",
      "85/100 - train: loss 0.013; val: loss 0.421 accuracy 0.908\n",
      "86/100 - train: loss 0.007; val: loss 0.429 accuracy 0.903\n",
      "87/100 - train: loss 0.006; val: loss 0.430 accuracy 0.908\n",
      "88/100 - train: loss 0.010; val: loss 0.458 accuracy 0.905\n",
      "89/100 - train: loss 0.004; val: loss 0.430 accuracy 0.911\n",
      "90/100 - train: loss 0.008; val: loss 0.444 accuracy 0.912\n",
      "91/100 - train: loss 0.002; val: loss 0.441 accuracy 0.912\n",
      "92/100 - train: loss 0.003; val: loss 0.427 accuracy 0.913\n",
      "93/100 - train: loss 0.002; val: loss 0.432 accuracy 0.913\n",
      "94/100 - train: loss 0.001; val: loss 0.427 accuracy 0.914\n",
      "95/100 - train: loss 0.001; val: loss 0.438 accuracy 0.913\n",
      "96/100 - train: loss 0.001; val: loss 0.434 accuracy 0.913\n",
      "97/100 - train: loss 0.001; val: loss 0.433 accuracy 0.914\n",
      "98/100 - train: loss 0.002; val: loss 0.436 accuracy 0.915\n",
      "99/100 - train: loss 0.001; val: loss 0.434 accuracy 0.915\n",
      "100/100 - train: loss 0.001; val: loss 0.434 accuracy 0.914\n"
     ]
    }
   ],
   "source": [
    "trainer.run(train_loader, max_epochs=EPOCHS);"
   ]
  },
  {
   "cell_type": "code",
   "execution_count": 34,
   "metadata": {
    "execution": {
     "iopub.execute_input": "2022-01-14T20:49:43.749197Z",
     "iopub.status.busy": "2022-01-14T20:49:43.748739Z",
     "iopub.status.idle": "2022-01-14T20:49:43.749987Z",
     "shell.execute_reply": "2022-01-14T20:49:43.750371Z"
    },
    "id": "QcIiNbCMMMge"
   },
   "outputs": [],
   "source": [
    "def plot_history_train_val(history, key):\n",
    "    fig = plt.figure()\n",
    "    ax = fig.add_subplot(111)\n",
    "    xs = np.arange(1, len(history['train ' + key]) + 1)\n",
    "    ax.plot(xs, history['train ' + key], '.-', label='train')\n",
    "    ax.plot(xs, history['val ' + key], '.-', label='val')\n",
    "    ax.set_xlabel('epoch')\n",
    "    ax.set_ylabel(key)\n",
    "    ax.legend()\n",
    "    ax.grid()\n",
    "    plt.show()"
   ]
  },
  {
   "cell_type": "code",
   "execution_count": 35,
   "metadata": {
    "execution": {
     "iopub.execute_input": "2022-01-14T20:49:43.753097Z",
     "iopub.status.busy": "2022-01-14T20:49:43.752638Z",
     "iopub.status.idle": "2022-01-14T20:49:43.753647Z",
     "shell.execute_reply": "2022-01-14T20:49:43.753948Z"
    },
    "id": "lYhq60YaMMgf"
   },
   "outputs": [],
   "source": [
    "def plot_history(history, key):\n",
    "    fig = plt.figure()\n",
    "    ax = fig.add_subplot(111)\n",
    "    xs = np.arange(1, len(history[key]) + 1)\n",
    "    ax.plot(xs, history[key], '-')\n",
    "    ax.set_xlabel('epoch')\n",
    "    ax.set_ylabel(key)\n",
    "    ax.grid()\n",
    "    plt.show()"
   ]
  },
  {
   "cell_type": "code",
   "execution_count": 36,
   "metadata": {
    "colab": {
     "base_uri": "https://localhost:8080/",
     "height": 449
    },
    "execution": {
     "iopub.execute_input": "2022-01-14T20:49:43.760862Z",
     "iopub.status.busy": "2022-01-14T20:49:43.756847Z",
     "iopub.status.idle": "2022-01-14T20:49:43.850786Z",
     "shell.execute_reply": "2022-01-14T20:49:43.850989Z"
    },
    "executionInfo": {
     "elapsed": 468,
     "status": "ok",
     "timestamp": 1683762481533,
     "user": {
      "displayName": "Музаффар Файзуллин",
      "userId": "18274565347338952550"
     },
     "user_tz": -180
    },
    "id": "AO8EjuqwMMgf",
    "outputId": "f0bd83f7-5a29-41a9-dd42-20c1eab0f670"
   },
   "outputs": [
    {
     "data": {
      "image/png": "[encoded data removed]",
      "text/plain": [
       "<Figure size 432x288 with 1 Axes>"
      ]
     },
     "metadata": {
      "needs_background": "light"
     },
     "output_type": "display_data"
    }
   ],
   "source": [
    "plot_history_train_val(history, 'loss')"
   ]
  },
  {
   "cell_type": "code",
   "execution_count": 37,
   "metadata": {
    "colab": {
     "base_uri": "https://localhost:8080/",
     "height": 449
    },
    "execution": {
     "iopub.execute_input": "2022-01-14T20:49:43.855873Z",
     "iopub.status.busy": "2022-01-14T20:49:43.855161Z",
     "iopub.status.idle": "2022-01-14T20:49:43.911555Z",
     "shell.execute_reply": "2022-01-14T20:49:43.911262Z"
    },
    "executionInfo": {
     "elapsed": 321,
     "status": "ok",
     "timestamp": 1683762482743,
     "user": {
      "displayName": "Музаффар Файзуллин",
      "userId": "18274565347338952550"
     },
     "user_tz": -180
    },
    "id": "fqyvD1goMMgf",
    "outputId": "322b60d9-9791-41c1-80a2-8ddd79b46504",
    "tags": []
   },
   "outputs": [
    {
     "data": {
      "image/png": "[encoded data removed]",
      "text/plain": [
       "<Figure size 432x288 with 1 Axes>"
      ]
     },
     "metadata": {
      "needs_background": "light"
     },
     "output_type": "display_data"
    }
   ],
   "source": [
    "plot_history(history, 'val acc')"
   ]
  },
  {
   "cell_type": "code",
   "execution_count": 39,
   "metadata": {
    "id": "vkXj7-6yetH-"
   },
   "outputs": [],
   "source": [
    "torch.save(model.state_dict(), SAVE_PATH)"
   ]
  },
  {
   "cell_type": "code",
   "execution_count": null,
   "metadata": {
    "id": "oeNz49ZV1HMa"
   },
   "outputs": [],
   "source": []
  }
 ],
 "metadata": {
  "accelerator": "GPU",
  "colab": {
   "provenance": []
  },
  "gpuClass": "standard",
  "kernelspec": {
   "display_name": "Python 3",
   "language": "python",
   "name": "python3"
  },
  "language_info": {
   "codemirror_mode": {
    "name": "ipython",
    "version": 3
   },
   "file_extension": ".py",
   "mimetype": "text/x-python",
   "name": "python",
   "nbconvert_exporter": "python",
   "pygments_lexer": "ipython3",
   "version": "3.8.10"
  }
 },
 "nbformat": 4,
 "nbformat_minor": 1
}
