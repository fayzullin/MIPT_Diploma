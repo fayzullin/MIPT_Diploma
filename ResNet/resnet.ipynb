{
 "cells": [
  {
   "attachments": {},
   "cell_type": "markdown",
   "metadata": {},
   "source": [
    "# ResNet"
   ]
  },
  {
   "attachments": {},
   "cell_type": "markdown",
   "metadata": {},
   "source": [
    "## Configuration"
   ]
  },
  {
   "attachments": {},
   "cell_type": "markdown",
   "metadata": {},
   "source": [
    "Imports"
   ]
  },
  {
   "cell_type": "code",
   "execution_count": 40,
   "metadata": {},
   "outputs": [],
   "source": [
    "import numpy as np\n",
    "from collections import defaultdict\n",
    "import matplotlib.pyplot as plt\n",
    "\n",
    "import torch\n",
    "import torch.nn as nn\n",
    "import torch.optim as optim\n",
    "import torch.nn.functional as F\n",
    "from torchvision import datasets, transforms\n",
    "\n",
    "from ignite.engine import Events, create_supervised_trainer, create_supervised_evaluator\n",
    "from ignite.utils import convert_tensor\n",
    "import ignite.metrics\n",
    "import ignite.contrib.handlers"
   ]
  },
  {
   "attachments": {},
   "cell_type": "markdown",
   "metadata": {},
   "source": [
    "Configuration"
   ]
  },
  {
   "cell_type": "code",
   "execution_count": 41,
   "metadata": {},
   "outputs": [],
   "source": [
    "DATA_DIR='./data'\n",
    "\n",
    "NUM_CLASSES = 10\n",
    "NUM_WORKERS = 20\n",
    "BATCH_SIZE = 32\n",
    "NUM_BA_COPIES = 4\n",
    "EPOCHS = 200"
   ]
  },
  {
   "cell_type": "code",
   "execution_count": 42,
   "metadata": {},
   "outputs": [
    {
     "name": "stdout",
     "output_type": "stream",
     "text": [
      "device: cuda:0\n"
     ]
    }
   ],
   "source": [
    "DEVICE = torch.device(\"cuda:0\") if torch.cuda.is_available() else torch.device(\"cpu\")\n",
    "print(\"device:\", DEVICE)"
   ]
  },
  {
   "attachments": {},
   "cell_type": "markdown",
   "metadata": {},
   "source": [
    "## Data"
   ]
  },
  {
   "cell_type": "code",
   "execution_count": 43,
   "metadata": {},
   "outputs": [],
   "source": [
    "train_transform = transforms.Compose([\n",
    "    transforms.TrivialAugmentWide(interpolation=transforms.InterpolationMode.BILINEAR),\n",
    "    transforms.RandomHorizontalFlip(),\n",
    "    transforms.RandomCrop(32, padding=4),\n",
    "    transforms.PILToTensor(),\n",
    "    transforms.ConvertImageDtype(torch.float),\n",
    "    transforms.RandomErasing(p=0.1)\n",
    "])"
   ]
  },
  {
   "cell_type": "code",
   "execution_count": 44,
   "metadata": {},
   "outputs": [
    {
     "name": "stdout",
     "output_type": "stream",
     "text": [
      "Files already downloaded and verified\n",
      "Files already downloaded and verified\n"
     ]
    }
   ],
   "source": [
    "train_dset = datasets.CIFAR10(root=DATA_DIR, train=True, download=True)\n",
    "test_dset = datasets.CIFAR10(root=DATA_DIR, train=False, download=True, transform=transforms.ToTensor())"
   ]
  },
  {
   "cell_type": "code",
   "execution_count": 45,
   "metadata": {},
   "outputs": [],
   "source": [
    "class CollateFN:\n",
    "    def __init__(self, transform, num_copies=1):\n",
    "        self.transform = transform\n",
    "        self.num_copies = num_copies\n",
    "    \n",
    "    def __call__(self, batch):\n",
    "        images, labels = zip(*batch)\n",
    "        \n",
    "        transformed_images = [self.transform(img) for img in images for _ in range(self.num_copies)]\n",
    "        new_labels = [lbl for lbl in labels for _ in range(self.num_copies)]\n",
    "        X = torch.stack(transformed_images, dim=0)\n",
    "        Y = torch.tensor(new_labels)\n",
    "        return X, Y"
   ]
  },
  {
   "cell_type": "code",
   "execution_count": 46,
   "metadata": {},
   "outputs": [],
   "source": [
    "train_loader = torch.utils.data.DataLoader(train_dset, batch_size=BATCH_SIZE, shuffle=True,\n",
    "                                           collate_fn=CollateFN(train_transform, NUM_BA_COPIES),\n",
    "                                           num_workers=NUM_WORKERS, pin_memory=True)\n",
    "test_loader = torch.utils.data.DataLoader(test_dset, batch_size=BATCH_SIZE, shuffle=False,\n",
    "                                          num_workers=NUM_WORKERS, pin_memory=True)"
   ]
  },
  {
   "cell_type": "code",
   "execution_count": 47,
   "metadata": {},
   "outputs": [],
   "source": [
    "def dataset_show_image(dset, idx):\n",
    "    X, Y = dset[idx]\n",
    "    title = \"Ground truth: {}\".format(dset.classes[Y])\n",
    "    fig = plt.figure()\n",
    "    ax = fig.add_subplot(111)\n",
    "    ax.set_axis_off()\n",
    "    ax.imshow(np.moveaxis(X.numpy(), 0, -1))\n",
    "    ax.set_title(title)\n",
    "    plt.show()"
   ]
  },
  {
   "cell_type": "code",
   "execution_count": 48,
   "metadata": {},
   "outputs": [
    {
     "data": {
      "image/png": "[encoded data removed]",
      "text/plain": [
       "<Figure size 432x288 with 1 Axes>"
      ]
     },
     "metadata": {
      "needs_background": "light"
     },
     "output_type": "display_data"
    }
   ],
   "source": [
    "dataset_show_image(test_dset, 1)"
   ]
  },
  {
   "attachments": {},
   "cell_type": "markdown",
   "metadata": {},
   "source": [
    "## Model"
   ]
  },
  {
   "cell_type": "code",
   "execution_count": 49,
   "metadata": {},
   "outputs": [],
   "source": [
    "class ConvBlock(nn.Sequential):\n",
    "    def __init__(self, in_channels, out_channels, kernel_size=3, stride=1, act=True):\n",
    "        padding = (kernel_size - 1) // 2\n",
    "        layers = [\n",
    "            nn.Conv2d(in_channels, out_channels, kernel_size, stride=stride, padding=padding, bias=False),\n",
    "            nn.BatchNorm2d(out_channels)\n",
    "        ]\n",
    "        if act: layers.append(nn.SiLU(inplace=True))\n",
    "        super().__init__(*layers)"
   ]
  },
  {
   "cell_type": "code",
   "execution_count": 50,
   "metadata": {},
   "outputs": [],
   "source": [
    "class BasicResidual(nn.Sequential):\n",
    "    def __init__(self, in_channels, out_channels, p_drop=0.):\n",
    "        super().__init__(\n",
    "            ConvBlock(in_channels, out_channels),\n",
    "            ConvBlock(out_channels, out_channels, act=False),\n",
    "            nn.Dropout2d(p_drop)\n",
    "        )"
   ]
  },
  {
   "cell_type": "code",
   "execution_count": 51,
   "metadata": {},
   "outputs": [],
   "source": [
    "class ResidualBlock(nn.Module):\n",
    "    def __init__(self, in_channels, out_channels, p_drop=0.):\n",
    "        super().__init__()\n",
    "        self.shortcut = self.get_shortcut(in_channels, out_channels)\n",
    "        self.residual = BasicResidual(in_channels, out_channels, p_drop)\n",
    "        self.act = nn.SiLU(inplace=True)\n",
    "        self.gamma = nn.Parameter(torch.zeros(1))\n",
    "    \n",
    "    def forward(self, x):\n",
    "        out = self.shortcut(x) + self.gamma * self.residual(x)\n",
    "        return self.act(out)\n",
    "    \n",
    "    def get_shortcut(self, in_channels, out_channels):\n",
    "        if in_channels != out_channels:\n",
    "            shortcut = ConvBlock(in_channels, out_channels, 1, act=False)\n",
    "        else:\n",
    "            shortcut = nn.Identity()\n",
    "        return shortcut"
   ]
  },
  {
   "cell_type": "code",
   "execution_count": 52,
   "metadata": {},
   "outputs": [],
   "source": [
    "class ResidualStack(nn.Sequential):\n",
    "    def __init__(self, in_channels, repetitions, strides, p_drop=0.):\n",
    "        layers = []\n",
    "        out_channels = in_channels\n",
    "        for rep, stride in zip(repetitions, strides):\n",
    "            if stride > 1: layers.append(nn.MaxPool2d(stride))\n",
    "            for _ in range(rep):\n",
    "                layers.append(ResidualBlock(in_channels, out_channels, p_drop))\n",
    "                in_channels = out_channels\n",
    "            out_channels *= 2\n",
    "        super().__init__(*layers)"
   ]
  },
  {
   "cell_type": "code",
   "execution_count": 53,
   "metadata": {},
   "outputs": [],
   "source": [
    "class Stem(nn.Sequential):\n",
    "    def __init__(self, in_channels, channel_list, stride):\n",
    "        layers = []\n",
    "        for out_channels in channel_list:\n",
    "            layers.append(ConvBlock(in_channels, out_channels, 3, stride=stride))\n",
    "            in_channels = out_channels\n",
    "            stride = 1\n",
    "        super().__init__(*layers)"
   ]
  },
  {
   "cell_type": "code",
   "execution_count": 54,
   "metadata": {},
   "outputs": [],
   "source": [
    "class Head(nn.Sequential):\n",
    "    def __init__(self, in_channels, classes, p_drop=0.):\n",
    "        super().__init__(\n",
    "            nn.AdaptiveAvgPool2d(1),\n",
    "            nn.Flatten(),\n",
    "            nn.Dropout(p_drop),\n",
    "            nn.Linear(in_channels, classes)\n",
    "        )"
   ]
  },
  {
   "cell_type": "code",
   "execution_count": 135,
   "metadata": {},
   "outputs": [],
   "source": [
    "class ResNet(nn.Sequential):\n",
    "    def __init__(self, classes, repetitions, strides=None, in_channels=3, res_p_drop=0., head_p_drop=0.):\n",
    "        if strides is None: strides = [2] * (len(repetitions) + 1)\n",
    "        super().__init__(\n",
    "            Stem(in_channels, [24, 24, 48], strides[0]),\n",
    "            ResidualStack(48, repetitions, strides[1:], res_p_drop),\n",
    "            Head(48 * 2**(len(repetitions) - 1), classes, head_p_drop)\n",
    "        )"
   ]
  },
  {
   "cell_type": "code",
   "execution_count": 136,
   "metadata": {},
   "outputs": [],
   "source": [
    "def init_linear(m):\n",
    "    if isinstance(m, (nn.Conv2d, nn.Linear)):\n",
    "        nn.init.kaiming_normal_(m.weight)\n",
    "        if m.bias is not None: nn.init.zeros_(m.bias)"
   ]
  },
  {
   "cell_type": "code",
   "execution_count": 137,
   "metadata": {},
   "outputs": [],
   "source": [
    "model = ResNet(NUM_CLASSES, [2, 2, 2, 2], strides=[1, 1, 2, 2, 2], res_p_drop=0., head_p_drop=0.3)"
   ]
  },
  {
   "cell_type": "code",
   "execution_count": 138,
   "metadata": {},
   "outputs": [],
   "source": [
    "model.apply(init_linear);"
   ]
  },
  {
   "cell_type": "code",
   "execution_count": 139,
   "metadata": {},
   "outputs": [],
   "source": [
    "model.to(DEVICE);"
   ]
  },
  {
   "cell_type": "code",
   "execution_count": 140,
   "metadata": {},
   "outputs": [
    {
     "name": "stdout",
     "output_type": "stream",
     "text": [
      "Number of parameters: 6,303,450\n"
     ]
    }
   ],
   "source": [
    "print(\"Number of parameters: {:,}\".format(sum(p.numel() for p in model.parameters())))"
   ]
  },
  {
   "attachments": {},
   "cell_type": "markdown",
   "metadata": {
    "tags": []
   },
   "source": [
    "## Loss"
   ]
  },
  {
   "cell_type": "code",
   "execution_count": 141,
   "metadata": {},
   "outputs": [],
   "source": [
    "def reduce_loss(loss, reduction='mean'):\n",
    "    return loss.mean() if reduction=='mean' else loss.sum() if reduction=='sum' else loss"
   ]
  },
  {
   "cell_type": "code",
   "execution_count": 142,
   "metadata": {},
   "outputs": [],
   "source": [
    "class LabelSmoothingCrossEntropy(nn.Module):\n",
    "    def __init__(self, ε=0.1, reduction='mean'):\n",
    "        super().__init__()\n",
    "        self.ε = ε\n",
    "        self.reduction = reduction\n",
    "\n",
    "    def forward(self, output, target):\n",
    "        c = output.size(-1)\n",
    "        log_preds = F.log_softmax(output, dim=-1)\n",
    "        loss1 = reduce_loss(-log_preds.sum(dim=-1) / c, self.reduction)\n",
    "        loss2 = F.nll_loss(log_preds, target, reduction=self.reduction)\n",
    "        loss = (1. - self.ε) * loss2 + self.ε * loss1\n",
    "        return loss"
   ]
  },
  {
   "attachments": {},
   "cell_type": "markdown",
   "metadata": {},
   "source": [
    "## CutMix"
   ]
  },
  {
   "cell_type": "code",
   "execution_count": 143,
   "metadata": {},
   "outputs": [],
   "source": [
    "class CutMix(nn.Module):\n",
    "    def __init__(self, loss, α=1.0):\n",
    "        super().__init__()\n",
    "        self.loss = loss\n",
    "        self.α = α\n",
    "        self.rng = np.random.default_rng()\n",
    "    \n",
    "    def prepare_batch(self, batch, device, non_blocking):\n",
    "        x, y = batch\n",
    "        x = convert_tensor(x, device=device, non_blocking=non_blocking)\n",
    "        y = convert_tensor(y, device=device, non_blocking=non_blocking)\n",
    "        \n",
    "        batch_size = x.size(0)\n",
    "        self.index = torch.randperm(batch_size).to(device)\n",
    "        \n",
    "        self.λ = self.rng.beta(self.α, self.α)\n",
    "        y1, x1, y2, x2 = self.cut_bounding_box(x.shape[-2:], self.λ)\n",
    "        x[:, :, y1:y2, x1:x2] = x[self.index, :, y1:y2, x1:x2]\n",
    "                \n",
    "        # adjust lambda to exactly match pixel ratio\n",
    "        area = x.size(2) * x.size(3)\n",
    "        self.λ = 1. - (x2 - x1) * (y2 - y1) / area\n",
    "        return x, y\n",
    "    \n",
    "    def cut_bounding_box(self, shape, λ):\n",
    "        cut_size_2 = 0.5 * np.sqrt(1. - λ)\n",
    "        center_yx = self.rng.random(2)\n",
    "        \n",
    "        y1x1 = (np.clip(center_yx - cut_size_2, 0., 1.) * shape).astype(int)\n",
    "        y2x2 = (np.clip(center_yx + cut_size_2, 0., 1.) * shape).astype(int)\n",
    "        return np.concatenate((y1x1, y2x2))\n",
    "        \n",
    "    def forward(self, pred, target):\n",
    "        orig_reduction = self.loss.reduction\n",
    "        self.loss.reduction = 'none'\n",
    "        batch_loss = self.λ * self.loss(pred, target) + (1. - self.λ) * self.loss(pred, target[self.index])\n",
    "        self.loss.reduction = orig_reduction\n",
    "        return reduce_loss(batch_loss, orig_reduction)"
   ]
  },
  {
   "attachments": {},
   "cell_type": "markdown",
   "metadata": {},
   "source": [
    "## Training"
   ]
  },
  {
   "attachments": {},
   "cell_type": "markdown",
   "metadata": {
    "tags": []
   },
   "source": [
    "### History"
   ]
  },
  {
   "cell_type": "code",
   "execution_count": 145,
   "metadata": {},
   "outputs": [],
   "source": [
    "class History:\n",
    "    def __init__(self):\n",
    "        self.values = defaultdict(list)\n",
    "\n",
    "    def append(self, key, value):\n",
    "        self.values[key].append(value)\n",
    "\n",
    "    def reset(self):\n",
    "        for k in self.values.keys():\n",
    "            self.values[k] = []\n",
    "\n",
    "    def _begin_plot(self):\n",
    "        self.fig = plt.figure()\n",
    "        self.ax = self.fig.add_subplot(111)\n",
    "\n",
    "    def _end_plot(self, ylabel):\n",
    "        self.ax.set_xlabel('epoch')\n",
    "        self.ax.set_ylabel(ylabel)\n",
    "        plt.show()\n",
    "\n",
    "    def _plot(self, key, line_type='-', label=None):\n",
    "        if label is None: label=key\n",
    "        xs = np.arange(1, len(self.values[key])+1)\n",
    "        self.ax.plot(xs, self.values[key], line_type, label=label)\n",
    "\n",
    "    def plot(self, key):\n",
    "        self._begin_plot()\n",
    "        self._plot(key, '-')\n",
    "        self._end_plot(key)\n",
    "\n",
    "    def plot_train_val(self, key):\n",
    "        self._begin_plot()\n",
    "        self._plot('train ' + key, '.-', 'train')\n",
    "        self._plot('val ' + key, '.-', 'val')\n",
    "        self.ax.legend()\n",
    "        self._end_plot(key)"
   ]
  },
  {
   "attachments": {},
   "cell_type": "markdown",
   "metadata": {},
   "source": [
    "### Trainer Setup"
   ]
  },
  {
   "cell_type": "code",
   "execution_count": 146,
   "metadata": {},
   "outputs": [],
   "source": [
    "loss = LabelSmoothingCrossEntropy()"
   ]
  },
  {
   "cell_type": "code",
   "execution_count": 147,
   "metadata": {},
   "outputs": [],
   "source": [
    "cutmix = CutMix(loss, α=1.0)"
   ]
  },
  {
   "attachments": {},
   "cell_type": "markdown",
   "metadata": {},
   "source": [
    "AdamW optimizer, [arXiv:1711.05101 [cs.LG]](https://arxiv.org/abs/1711.05101)"
   ]
  },
  {
   "cell_type": "code",
   "execution_count": 148,
   "metadata": {},
   "outputs": [],
   "source": [
    "optimizer = optim.AdamW(model.parameters(), lr=1e-6, weight_decay=1e-2)"
   ]
  },
  {
   "cell_type": "code",
   "execution_count": 150,
   "metadata": {},
   "outputs": [],
   "source": [
    "trainer = create_supervised_trainer(model, optimizer, cutmix, device=DEVICE, prepare_batch=cutmix.prepare_batch)"
   ]
  },
  {
   "attachments": {},
   "cell_type": "markdown",
   "metadata": {},
   "source": [
    "\"1cycle\" leraning rate policy, [arXiv:1803.09820 [cs.LG]](https://arxiv.org/abs/1803.09820)"
   ]
  },
  {
   "cell_type": "code",
   "execution_count": 151,
   "metadata": {},
   "outputs": [],
   "source": [
    "lr_scheduler = optim.lr_scheduler.OneCycleLR(optimizer, max_lr=1e-2,\n",
    "                                             steps_per_epoch=len(train_loader), epochs=EPOCHS)"
   ]
  },
  {
   "cell_type": "code",
   "execution_count": 152,
   "metadata": {},
   "outputs": [],
   "source": [
    "trainer.add_event_handler(Events.ITERATION_COMPLETED, lambda engine: lr_scheduler.step());"
   ]
  },
  {
   "cell_type": "code",
   "execution_count": 153,
   "metadata": {},
   "outputs": [],
   "source": [
    "ignite.metrics.RunningAverage(output_transform=lambda x: x).attach(trainer, \"loss\")"
   ]
  },
  {
   "cell_type": "code",
   "execution_count": 154,
   "metadata": {},
   "outputs": [],
   "source": [
    "val_metrics = {\"accuracy\": ignite.metrics.Accuracy(), \"loss\": ignite.metrics.Loss(loss)}"
   ]
  },
  {
   "cell_type": "code",
   "execution_count": 155,
   "metadata": {},
   "outputs": [],
   "source": [
    "evaluator = create_supervised_evaluator(model, metrics=val_metrics, device=DEVICE)"
   ]
  },
  {
   "cell_type": "code",
   "execution_count": 156,
   "metadata": {},
   "outputs": [],
   "source": [
    "history = History()"
   ]
  },
  {
   "cell_type": "code",
   "execution_count": 157,
   "metadata": {},
   "outputs": [],
   "source": [
    "@trainer.on(Events.EPOCH_COMPLETED)\n",
    "def log_validation_results(engine):\n",
    "    train_state = engine.state\n",
    "    epoch = train_state.epoch\n",
    "    max_epochs = train_state.max_epochs\n",
    "    train_loss = train_state.metrics[\"loss\"]\n",
    "    history.append('train loss', train_loss)\n",
    "    \n",
    "    evaluator.run(test_loader)\n",
    "    val_metrics = evaluator.state.metrics\n",
    "    val_loss = val_metrics[\"loss\"]\n",
    "    val_acc = val_metrics[\"accuracy\"]\n",
    "    history.append('val loss', val_loss)\n",
    "    history.append('val acc', val_acc)\n",
    "    \n",
    "    print(\"{}/{} - train: loss {:.3f}; val: loss {:.3f} accuracy {:.3f}\".format(\n",
    "        epoch, max_epochs, train_loss, val_loss, val_acc))"
   ]
  },
  {
   "attachments": {},
   "cell_type": "markdown",
   "metadata": {},
   "source": [
    "### Training"
   ]
  },
  {
   "cell_type": "code",
   "execution_count": 158,
   "metadata": {
    "execution": {
     "iopub.execute_input": "2021-11-26T18:08:30.276224Z",
     "iopub.status.busy": "2021-11-26T18:08:30.275962Z",
     "iopub.status.idle": "2021-11-27T01:09:16.924286Z",
     "shell.execute_reply": "2021-11-27T01:09:16.924520Z"
    }
   },
   "outputs": [
    {
     "name": "stdout",
     "output_type": "stream",
     "text": [
      "1/200 - train: loss 1.963; val: loss 1.303 accuracy 0.653\n",
      "2/200 - train: loss 1.877; val: loss 1.127 accuracy 0.732\n",
      "3/200 - train: loss 1.764; val: loss 1.027 accuracy 0.786\n",
      "4/200 - train: loss 1.767; val: loss 1.012 accuracy 0.796\n",
      "5/200 - train: loss 1.678; val: loss 0.931 accuracy 0.831\n",
      "6/200 - train: loss 1.695; val: loss 0.923 accuracy 0.836\n",
      "7/200 - train: loss 1.669; val: loss 0.902 accuracy 0.850\n",
      "8/200 - train: loss 1.603; val: loss 0.873 accuracy 0.863\n",
      "9/200 - train: loss 1.599; val: loss 0.863 accuracy 0.857\n",
      "10/200 - train: loss 1.565; val: loss 0.823 accuracy 0.871\n",
      "11/200 - train: loss 1.547; val: loss 0.824 accuracy 0.881\n",
      "12/200 - train: loss 1.626; val: loss 0.833 accuracy 0.884\n",
      "13/200 - train: loss 1.552; val: loss 0.828 accuracy 0.892\n",
      "14/200 - train: loss 1.551; val: loss 0.806 accuracy 0.889\n",
      "15/200 - train: loss 1.539; val: loss 0.794 accuracy 0.892\n",
      "16/200 - train: loss 1.540; val: loss 0.785 accuracy 0.892\n",
      "17/200 - train: loss 1.477; val: loss 0.776 accuracy 0.899\n",
      "18/200 - train: loss 1.532; val: loss 0.776 accuracy 0.902\n",
      "19/200 - train: loss 1.528; val: loss 0.754 accuracy 0.918\n",
      "20/200 - train: loss 1.492; val: loss 0.755 accuracy 0.914\n",
      "21/200 - train: loss 1.491; val: loss 0.763 accuracy 0.911\n",
      "22/200 - train: loss 1.518; val: loss 0.727 accuracy 0.924\n",
      "23/200 - train: loss 1.473; val: loss 0.729 accuracy 0.919\n",
      "24/200 - train: loss 1.482; val: loss 0.720 accuracy 0.921\n",
      "25/200 - train: loss 1.500; val: loss 0.731 accuracy 0.921\n",
      "26/200 - train: loss 1.478; val: loss 0.739 accuracy 0.915\n",
      "27/200 - train: loss 1.457; val: loss 0.738 accuracy 0.917\n",
      "28/200 - train: loss 1.471; val: loss 0.726 accuracy 0.917\n",
      "29/200 - train: loss 1.465; val: loss 0.722 accuracy 0.922\n",
      "30/200 - train: loss 1.500; val: loss 0.721 accuracy 0.926\n",
      "31/200 - train: loss 1.446; val: loss 0.736 accuracy 0.916\n",
      "32/200 - train: loss 1.478; val: loss 0.727 accuracy 0.919\n",
      "33/200 - train: loss 1.463; val: loss 0.719 accuracy 0.921\n",
      "34/200 - train: loss 1.479; val: loss 0.778 accuracy 0.900\n",
      "35/200 - train: loss 1.480; val: loss 0.721 accuracy 0.912\n",
      "36/200 - train: loss 1.481; val: loss 0.712 accuracy 0.917\n",
      "37/200 - train: loss 1.501; val: loss 0.699 accuracy 0.928\n",
      "38/200 - train: loss 1.493; val: loss 0.753 accuracy 0.908\n",
      "39/200 - train: loss 1.465; val: loss 0.734 accuracy 0.908\n",
      "40/200 - train: loss 1.437; val: loss 0.721 accuracy 0.917\n",
      "41/200 - train: loss 1.448; val: loss 0.791 accuracy 0.884\n",
      "42/200 - train: loss 1.457; val: loss 0.728 accuracy 0.909\n",
      "43/200 - train: loss 1.477; val: loss 0.761 accuracy 0.895\n",
      "44/200 - train: loss 1.483; val: loss 0.741 accuracy 0.904\n",
      "45/200 - train: loss 1.489; val: loss 0.707 accuracy 0.922\n",
      "46/200 - train: loss 1.492; val: loss 0.721 accuracy 0.918\n",
      "47/200 - train: loss 1.469; val: loss 0.773 accuracy 0.889\n",
      "48/200 - train: loss 1.487; val: loss 0.742 accuracy 0.905\n",
      "49/200 - train: loss 1.473; val: loss 0.762 accuracy 0.901\n",
      "50/200 - train: loss 1.482; val: loss 0.734 accuracy 0.910\n",
      "51/200 - train: loss 1.479; val: loss 0.725 accuracy 0.912\n",
      "52/200 - train: loss 1.484; val: loss 0.697 accuracy 0.926\n",
      "53/200 - train: loss 1.450; val: loss 0.743 accuracy 0.909\n",
      "54/200 - train: loss 1.448; val: loss 0.730 accuracy 0.914\n",
      "55/200 - train: loss 1.491; val: loss 0.724 accuracy 0.915\n",
      "56/200 - train: loss 1.457; val: loss 0.703 accuracy 0.921\n",
      "57/200 - train: loss 1.444; val: loss 0.728 accuracy 0.917\n",
      "58/200 - train: loss 1.532; val: loss 0.721 accuracy 0.914\n",
      "59/200 - train: loss 1.481; val: loss 0.747 accuracy 0.907\n",
      "60/200 - train: loss 1.459; val: loss 0.729 accuracy 0.908\n",
      "61/200 - train: loss 1.436; val: loss 0.729 accuracy 0.911\n",
      "62/200 - train: loss 1.469; val: loss 0.717 accuracy 0.919\n",
      "63/200 - train: loss 1.485; val: loss 0.722 accuracy 0.915\n",
      "64/200 - train: loss 1.457; val: loss 0.719 accuracy 0.918\n",
      "65/200 - train: loss 1.460; val: loss 0.803 accuracy 0.882\n",
      "66/200 - train: loss 1.466; val: loss 0.723 accuracy 0.912\n",
      "67/200 - train: loss 1.472; val: loss 0.679 accuracy 0.927\n",
      "68/200 - train: loss 1.468; val: loss 0.722 accuracy 0.917\n",
      "69/200 - train: loss 1.451; val: loss 0.702 accuracy 0.919\n",
      "70/200 - train: loss 1.451; val: loss 0.722 accuracy 0.915\n",
      "71/200 - train: loss 1.467; val: loss 0.729 accuracy 0.912\n",
      "72/200 - train: loss 1.450; val: loss 0.735 accuracy 0.914\n",
      "73/200 - train: loss 1.415; val: loss 0.707 accuracy 0.925\n",
      "74/200 - train: loss 1.433; val: loss 0.698 accuracy 0.922\n",
      "75/200 - train: loss 1.449; val: loss 0.753 accuracy 0.896\n",
      "76/200 - train: loss 1.479; val: loss 0.760 accuracy 0.913\n",
      "77/200 - train: loss 1.462; val: loss 0.705 accuracy 0.920\n",
      "78/200 - train: loss 1.403; val: loss 0.702 accuracy 0.922\n",
      "79/200 - train: loss 1.429; val: loss 0.699 accuracy 0.923\n",
      "80/200 - train: loss 1.434; val: loss 0.742 accuracy 0.898\n",
      "81/200 - train: loss 1.477; val: loss 0.690 accuracy 0.929\n",
      "82/200 - train: loss 1.421; val: loss 0.705 accuracy 0.923\n",
      "83/200 - train: loss 1.461; val: loss 0.762 accuracy 0.892\n",
      "84/200 - train: loss 1.459; val: loss 0.734 accuracy 0.907\n",
      "85/200 - train: loss 1.408; val: loss 0.680 accuracy 0.931\n",
      "86/200 - train: loss 1.444; val: loss 0.769 accuracy 0.896\n",
      "87/200 - train: loss 1.441; val: loss 0.692 accuracy 0.925\n",
      "88/200 - train: loss 1.434; val: loss 0.718 accuracy 0.914\n",
      "89/200 - train: loss 1.454; val: loss 0.702 accuracy 0.927\n",
      "90/200 - train: loss 1.426; val: loss 0.689 accuracy 0.925\n",
      "91/200 - train: loss 1.457; val: loss 0.728 accuracy 0.909\n",
      "92/200 - train: loss 1.431; val: loss 0.714 accuracy 0.920\n",
      "93/200 - train: loss 1.393; val: loss 0.715 accuracy 0.920\n",
      "94/200 - train: loss 1.460; val: loss 0.690 accuracy 0.924\n",
      "95/200 - train: loss 1.417; val: loss 0.690 accuracy 0.926\n",
      "96/200 - train: loss 1.431; val: loss 0.707 accuracy 0.925\n",
      "97/200 - train: loss 1.453; val: loss 0.696 accuracy 0.927\n",
      "98/200 - train: loss 1.428; val: loss 0.681 accuracy 0.928\n",
      "99/200 - train: loss 1.432; val: loss 0.676 accuracy 0.933\n",
      "100/200 - train: loss 1.410; val: loss 0.683 accuracy 0.930\n",
      "101/200 - train: loss 1.451; val: loss 0.774 accuracy 0.902\n",
      "102/200 - train: loss 1.431; val: loss 0.711 accuracy 0.920\n",
      "103/200 - train: loss 1.417; val: loss 0.675 accuracy 0.934\n",
      "104/200 - train: loss 1.387; val: loss 0.753 accuracy 0.902\n",
      "105/200 - train: loss 1.414; val: loss 0.679 accuracy 0.929\n",
      "106/200 - train: loss 1.428; val: loss 0.688 accuracy 0.930\n",
      "107/200 - train: loss 1.421; val: loss 0.695 accuracy 0.920\n",
      "108/200 - train: loss 1.426; val: loss 0.667 accuracy 0.936\n",
      "109/200 - train: loss 1.375; val: loss 0.698 accuracy 0.918\n",
      "110/200 - train: loss 1.403; val: loss 0.684 accuracy 0.932\n",
      "111/200 - train: loss 1.385; val: loss 0.685 accuracy 0.928\n",
      "112/200 - train: loss 1.406; val: loss 0.672 accuracy 0.934\n",
      "113/200 - train: loss 1.435; val: loss 0.666 accuracy 0.937\n",
      "114/200 - train: loss 1.389; val: loss 0.726 accuracy 0.911\n",
      "115/200 - train: loss 1.416; val: loss 0.698 accuracy 0.933\n",
      "116/200 - train: loss 1.402; val: loss 0.655 accuracy 0.938\n",
      "117/200 - train: loss 1.338; val: loss 0.661 accuracy 0.933\n",
      "118/200 - train: loss 1.401; val: loss 0.659 accuracy 0.941\n",
      "119/200 - train: loss 1.391; val: loss 0.661 accuracy 0.936\n",
      "120/200 - train: loss 1.422; val: loss 0.651 accuracy 0.941\n",
      "121/200 - train: loss 1.311; val: loss 0.666 accuracy 0.933\n",
      "122/200 - train: loss 1.369; val: loss 0.661 accuracy 0.936\n",
      "123/200 - train: loss 1.382; val: loss 0.647 accuracy 0.943\n",
      "124/200 - train: loss 1.362; val: loss 0.678 accuracy 0.931\n",
      "125/200 - train: loss 1.377; val: loss 0.643 accuracy 0.944\n",
      "126/200 - train: loss 1.349; val: loss 0.642 accuracy 0.944\n",
      "127/200 - train: loss 1.362; val: loss 0.641 accuracy 0.945\n",
      "128/200 - train: loss 1.389; val: loss 0.643 accuracy 0.946\n",
      "129/200 - train: loss 1.368; val: loss 0.647 accuracy 0.948\n",
      "130/200 - train: loss 1.353; val: loss 0.648 accuracy 0.940\n",
      "131/200 - train: loss 1.352; val: loss 0.634 accuracy 0.946\n",
      "132/200 - train: loss 1.353; val: loss 0.642 accuracy 0.946\n",
      "133/200 - train: loss 1.344; val: loss 0.632 accuracy 0.950\n",
      "134/200 - train: loss 1.339; val: loss 0.639 accuracy 0.947\n",
      "135/200 - train: loss 1.332; val: loss 0.635 accuracy 0.947\n",
      "136/200 - train: loss 1.314; val: loss 0.636 accuracy 0.949\n",
      "137/200 - train: loss 1.344; val: loss 0.633 accuracy 0.951\n",
      "138/200 - train: loss 1.362; val: loss 0.635 accuracy 0.949\n",
      "139/200 - train: loss 1.322; val: loss 0.646 accuracy 0.943\n"
     ]
    },
    {
     "name": "stdout",
     "output_type": "stream",
     "text": [
      "140/200 - train: loss 1.358; val: loss 0.625 accuracy 0.953\n",
      "141/200 - train: loss 1.305; val: loss 0.663 accuracy 0.939\n",
      "142/200 - train: loss 1.341; val: loss 0.656 accuracy 0.940\n",
      "143/200 - train: loss 1.338; val: loss 0.628 accuracy 0.952\n",
      "144/200 - train: loss 1.301; val: loss 0.620 accuracy 0.954\n",
      "145/200 - train: loss 1.297; val: loss 0.616 accuracy 0.954\n",
      "146/200 - train: loss 1.292; val: loss 0.640 accuracy 0.945\n",
      "147/200 - train: loss 1.331; val: loss 0.613 accuracy 0.956\n",
      "148/200 - train: loss 1.329; val: loss 0.613 accuracy 0.955\n",
      "149/200 - train: loss 1.298; val: loss 0.613 accuracy 0.956\n",
      "150/200 - train: loss 1.306; val: loss 0.619 accuracy 0.954\n",
      "151/200 - train: loss 1.299; val: loss 0.613 accuracy 0.957\n",
      "152/200 - train: loss 1.268; val: loss 0.616 accuracy 0.954\n",
      "153/200 - train: loss 1.281; val: loss 0.607 accuracy 0.957\n",
      "154/200 - train: loss 1.276; val: loss 0.599 accuracy 0.961\n",
      "155/200 - train: loss 1.289; val: loss 0.603 accuracy 0.961\n",
      "156/200 - train: loss 1.282; val: loss 0.603 accuracy 0.960\n",
      "157/200 - train: loss 1.276; val: loss 0.601 accuracy 0.960\n",
      "158/200 - train: loss 1.312; val: loss 0.608 accuracy 0.957\n",
      "159/200 - train: loss 1.285; val: loss 0.603 accuracy 0.960\n",
      "160/200 - train: loss 1.295; val: loss 0.597 accuracy 0.962\n",
      "161/200 - train: loss 1.279; val: loss 0.600 accuracy 0.960\n",
      "162/200 - train: loss 1.266; val: loss 0.590 accuracy 0.965\n",
      "163/200 - train: loss 1.262; val: loss 0.600 accuracy 0.962\n",
      "164/200 - train: loss 1.267; val: loss 0.596 accuracy 0.963\n",
      "165/200 - train: loss 1.273; val: loss 0.592 accuracy 0.963\n",
      "166/200 - train: loss 1.228; val: loss 0.589 accuracy 0.964\n",
      "167/200 - train: loss 1.244; val: loss 0.584 accuracy 0.966\n",
      "168/200 - train: loss 1.224; val: loss 0.587 accuracy 0.967\n",
      "169/200 - train: loss 1.209; val: loss 0.586 accuracy 0.967\n",
      "170/200 - train: loss 1.241; val: loss 0.592 accuracy 0.965\n",
      "171/200 - train: loss 1.233; val: loss 0.583 accuracy 0.968\n",
      "172/200 - train: loss 1.204; val: loss 0.586 accuracy 0.967\n",
      "173/200 - train: loss 1.202; val: loss 0.584 accuracy 0.968\n",
      "174/200 - train: loss 1.222; val: loss 0.585 accuracy 0.967\n",
      "175/200 - train: loss 1.242; val: loss 0.582 accuracy 0.968\n",
      "176/200 - train: loss 1.202; val: loss 0.582 accuracy 0.968\n",
      "177/200 - train: loss 1.194; val: loss 0.581 accuracy 0.967\n",
      "178/200 - train: loss 1.173; val: loss 0.579 accuracy 0.969\n",
      "179/200 - train: loss 1.194; val: loss 0.574 accuracy 0.972\n",
      "180/200 - train: loss 1.232; val: loss 0.573 accuracy 0.972\n",
      "181/200 - train: loss 1.191; val: loss 0.574 accuracy 0.971\n",
      "182/200 - train: loss 1.176; val: loss 0.576 accuracy 0.972\n",
      "183/200 - train: loss 1.187; val: loss 0.577 accuracy 0.969\n",
      "184/200 - train: loss 1.174; val: loss 0.572 accuracy 0.971\n",
      "185/200 - train: loss 1.222; val: loss 0.574 accuracy 0.970\n",
      "186/200 - train: loss 1.178; val: loss 0.572 accuracy 0.970\n",
      "187/200 - train: loss 1.117; val: loss 0.572 accuracy 0.971\n",
      "188/200 - train: loss 1.148; val: loss 0.571 accuracy 0.971\n",
      "189/200 - train: loss 1.163; val: loss 0.570 accuracy 0.972\n",
      "190/200 - train: loss 1.186; val: loss 0.574 accuracy 0.971\n",
      "191/200 - train: loss 1.167; val: loss 0.569 accuracy 0.972\n",
      "192/200 - train: loss 1.137; val: loss 0.569 accuracy 0.972\n",
      "193/200 - train: loss 1.158; val: loss 0.569 accuracy 0.971\n",
      "194/200 - train: loss 1.157; val: loss 0.569 accuracy 0.971\n",
      "195/200 - train: loss 1.158; val: loss 0.570 accuracy 0.972\n",
      "196/200 - train: loss 1.179; val: loss 0.569 accuracy 0.973\n",
      "197/200 - train: loss 1.164; val: loss 0.569 accuracy 0.972\n",
      "198/200 - train: loss 1.173; val: loss 0.569 accuracy 0.972\n",
      "199/200 - train: loss 1.181; val: loss 0.569 accuracy 0.972\n",
      "200/200 - train: loss 1.160; val: loss 0.569 accuracy 0.972\n"
     ]
    }
   ],
   "source": [
    "trainer.run(train_loader, max_epochs=EPOCHS);"
   ]
  },
  {
   "cell_type": "code",
   "execution_count": 159,
   "metadata": {
    "execution": {
     "iopub.execute_input": "2021-11-27T01:09:16.932876Z",
     "iopub.status.busy": "2021-11-27T01:09:16.932434Z",
     "iopub.status.idle": "2021-11-27T01:09:17.011306Z",
     "shell.execute_reply": "2021-11-27T01:09:17.011029Z"
    }
   },
   "outputs": [
    {
     "data": {
      "image/png": "[encoded data removed]",
      "text/plain": [
       "<Figure size 432x288 with 1 Axes>"
      ]
     },
     "metadata": {
      "needs_background": "light"
     },
     "output_type": "display_data"
    }
   ],
   "source": [
    "history.plot_train_val('loss')"
   ]
  },
  {
   "cell_type": "code",
   "execution_count": 160,
   "metadata": {
    "execution": {
     "iopub.execute_input": "2021-11-27T01:09:17.026206Z",
     "iopub.status.busy": "2021-11-27T01:09:17.023135Z",
     "iopub.status.idle": "2021-11-27T01:09:17.082306Z",
     "shell.execute_reply": "2021-11-27T01:09:17.081994Z"
    }
   },
   "outputs": [
    {
     "data": {
      "image/png": "[encoded data removed]",
      "text/plain": [
       "<Figure size 432x288 with 1 Axes>"
      ]
     },
     "metadata": {
      "needs_background": "light"
     },
     "output_type": "display_data"
    }
   ],
   "source": [
    "history.plot('val acc')"
   ]
  },
  {
   "cell_type": "code",
   "execution_count": 161,
   "metadata": {},
   "outputs": [],
   "source": [
    "SAVE_PATH = './models/resnet_weights.pkl'\n",
    "torch.save(model.state_dict(), SAVE_PATH)"
   ]
  },
  {
   "cell_type": "code",
   "execution_count": null,
   "metadata": {},
   "outputs": [],
   "source": []
  }
 ],
 "metadata": {
  "kernelspec": {
   "display_name": "Python 3",
   "language": "python",
   "name": "python3"
  },
  "language_info": {
   "codemirror_mode": {
    "name": "ipython",
    "version": 3
   },
   "file_extension": ".py",
   "mimetype": "text/x-python",
   "name": "python",
   "nbconvert_exporter": "python",
   "pygments_lexer": "ipython3",
   "version": "3.8.10"
  }
 },
 "nbformat": 4,
 "nbformat_minor": 4
}
